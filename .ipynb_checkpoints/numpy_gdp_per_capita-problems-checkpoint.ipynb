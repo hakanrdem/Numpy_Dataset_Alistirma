{
 "cells": [
  {
   "cell_type": "markdown",
   "metadata": {},
   "source": [
    "# GDP_Per_Capita Dataset"
   ]
  },
  {
   "cell_type": "markdown",
   "metadata": {},
   "source": [
    "We will work on GDP per capita data taken from World Bank"
   ]
  },
  {
   "cell_type": "markdown",
   "metadata": {},
   "source": [
    "first read data from the csv file\n",
    "<br> you can use np.genfromtxt() function to read from the file directly\n",
    "<br>https://docs.scipy.org/doc/numpy-1.15.1/reference/generated/numpy.genfromtxt.html\n",
    "<br> np.genfromtxt() is a nan-aware function"
   ]
  },
  {
   "cell_type": "code",
   "execution_count": 2,
   "metadata": {},
   "outputs": [],
   "source": [
    "import numpy as np\n",
    "data=np.genfromtxt(\"gdp_per_capita.csv\",delimiter=\";\",usecols=np.arange(1,59),skip_header=True)\n",
    "index=np.genfromtxt(\"gdp_per_capita.csv\",delimiter=\";\",usecols=0,skip_header=True,dtype=str)\n",
    "years=np.arange(1960,2018)"
   ]
  },
  {
   "cell_type": "code",
   "execution_count": 3,
   "metadata": {},
   "outputs": [
    {
     "data": {
      "text/plain": [
       "array([[          nan,           nan,           nan, ...,           nan,\n",
       "                  nan,           nan],\n",
       "       [  59.77732651,   59.87815281,   58.49287383, ...,  569.57792292,\n",
       "         561.77874627,  585.85006378],\n",
       "       [          nan,           nan,           nan, ..., 3683.55260741,\n",
       "        3308.77282846, 4170.31228025],\n",
       "       ...,\n",
       "       [ 433.94119359,  444.8962683 ,  461.79823217, ..., 5746.68112703,\n",
       "        5280.01763276, 6160.73456882],\n",
       "       [ 234.16619428,  221.72840063,  213.89422877, ..., 1313.88964551,\n",
       "        1262.98968189, 1509.79701345],\n",
       "       [ 280.9945858 ,  283.31586904,  279.4409888 , ..., 1033.41584138,\n",
       "        1029.07664856, 1079.60829053]])"
      ]
     },
     "execution_count": 3,
     "metadata": {},
     "output_type": "execute_result"
    }
   ],
   "source": [
    "data"
   ]
  },
  {
   "cell_type": "markdown",
   "metadata": {},
   "source": [
    "## Let's get row for Turkey"
   ]
  },
  {
   "cell_type": "code",
   "execution_count": 3,
   "metadata": {},
   "outputs": [
    {
     "data": {
      "text/plain": [
       "1"
      ]
     },
     "execution_count": 3,
     "metadata": {},
     "output_type": "execute_result"
    }
   ],
   "source": [
    "(index==\"Turkey\").sum()"
   ]
  },
  {
   "cell_type": "code",
   "execution_count": 7,
   "metadata": {},
   "outputs": [],
   "source": [
    "# get data for turkey\n",
    "data_turkey=data[index ==\"Turkey\"]"
   ]
  },
  {
   "cell_type": "code",
   "execution_count": 8,
   "metadata": {
    "scrolled": true
   },
   "outputs": [
    {
     "data": {
      "text/plain": [
       "array([[  509.42411175,   285.01270894,   309.44690335,   350.66322267,\n",
       "          369.58378635,   385.64097575,   445.25049146,   482.37839397,\n",
       "          526.21399674,   571.61827375,   489.93077504,   455.10530414,\n",
       "          558.42156398,   686.49063437,   927.80011041,  1136.37669545,\n",
       "         1275.95816118,  1427.37325335,  1549.6461278 ,  2079.2227839 ,\n",
       "         1564.24897993,  1579.07570884,  1402.40808085,  1310.25698781,\n",
       "         1246.82584157,  1368.40290568,  1510.67808892,  1705.89612038,\n",
       "         1745.36693883,  2021.86143736,  2794.35355133,  2735.71080727,\n",
       "         2842.3735983 ,  3180.19201108,  2270.34036225,  2897.87020756,\n",
       "         3053.95082814,  3144.38945307,  4496.5031695 ,  4108.12787793,\n",
       "         4316.55389456,  3119.60316704,  3660.06982612,  4718.45675434,\n",
       "         6040.88490956,  7384.25848221,  8034.60667554,  9709.72002233,\n",
       "        10850.87038743,  9036.26671065, 10672.40016211, 11340.82361998,\n",
       "        11720.31386488, 12542.72152945, 12127.46072208, 10984.805202  ,\n",
       "        10862.72538029, 10540.61799871]])"
      ]
     },
     "execution_count": 8,
     "metadata": {},
     "output_type": "execute_result"
    }
   ],
   "source": [
    "data_turkey"
   ]
  },
  {
   "cell_type": "code",
   "execution_count": 9,
   "metadata": {},
   "outputs": [
    {
     "data": {
      "text/plain": [
       "(1, 58)"
      ]
     },
     "execution_count": 9,
     "metadata": {},
     "output_type": "execute_result"
    }
   ],
   "source": [
    "data_turkey.shape"
   ]
  },
  {
   "cell_type": "markdown",
   "metadata": {},
   "source": [
    "### Calculate the yearly percentage increase compared to previous year  <br>find the year that has highest increase in terms of percentage."
   ]
  },
  {
   "cell_type": "code",
   "execution_count": 10,
   "metadata": {},
   "outputs": [],
   "source": [
    "diff=np.diff(data_turkey)"
   ]
  },
  {
   "cell_type": "code",
   "execution_count": 11,
   "metadata": {},
   "outputs": [
    {
     "data": {
      "text/plain": [
       "array([[ -224.41140281,    24.43419441,    41.21631932,    18.92056368,\n",
       "           16.0571894 ,    59.60951571,    37.12790251,    43.83560277,\n",
       "           45.40427701,   -81.68749871,   -34.82547089,   103.31625984,\n",
       "          128.06907039,   241.30947604,   208.57658504,   139.58146573,\n",
       "          151.41509217,   122.27287445,   529.5766561 ,  -514.97380397,\n",
       "           14.82672891,  -176.667628  ,   -92.15109304,   -63.43114624,\n",
       "          121.57706411,   142.27518324,   195.21803147,    39.47081844,\n",
       "          276.49449853,   772.49211397,   -58.64274405,   106.66279102,\n",
       "          337.81841278,  -909.85164883,   627.52984532,   156.08062058,\n",
       "           90.43862493,  1352.11371642,  -388.37529157,   208.42601663,\n",
       "        -1196.95072752,   540.46665908,  1058.38692821,  1322.42815522,\n",
       "         1343.37357266,   650.34819332,  1675.11334679,  1141.1503651 ,\n",
       "        -1814.60367678,  1636.13345146,   668.42345787,   379.4902449 ,\n",
       "          822.40766457,  -415.26080737, -1142.65552008,  -122.07982171,\n",
       "         -322.10738158]])"
      ]
     },
     "execution_count": 11,
     "metadata": {},
     "output_type": "execute_result"
    }
   ],
   "source": [
    "diff"
   ]
  },
  {
   "cell_type": "code",
   "execution_count": 12,
   "metadata": {},
   "outputs": [
    {
     "data": {
      "text/plain": [
       "(1, 57)"
      ]
     },
     "execution_count": 12,
     "metadata": {},
     "output_type": "execute_result"
    }
   ],
   "source": [
    "diff.shape"
   ]
  },
  {
   "cell_type": "code",
   "execution_count": 15,
   "metadata": {},
   "outputs": [],
   "source": [
    "# calculate the percentage difference\n",
    "# divide diff array by data_turkey array except for the last item \n",
    "percent_diff=(diff/data_turkey[:,:-1])*100"
   ]
  },
  {
   "cell_type": "code",
   "execution_count": 16,
   "metadata": {},
   "outputs": [
    {
     "data": {
      "text/plain": [
       "array([[-44.05197902,   8.57301925,  13.31935103,   5.395651  ,\n",
       "          4.34466824,  15.45725674,   8.33865503,   9.08738934,\n",
       "          8.62848143, -14.2905681 ,  -7.10824318,  22.70161629,\n",
       "         22.93411978,  35.15116798,  22.48076743,  12.28302783,\n",
       "         11.86677563,   8.56628595,  34.17403797, -24.76761066,\n",
       "          0.94784968, -11.18804038,  -6.57091857,  -4.84112253,\n",
       "          9.75092592,  10.3971705 ,  12.92254339,   2.31378792,\n",
       "         15.84162576,  38.20697599,  -2.09861576,   3.89890593,\n",
       "         11.88508129, -28.60995958,  27.6403422 ,   5.38604594,\n",
       "          2.9613648 ,  43.00083487,  -8.63727383,   5.07350362,\n",
       "        -27.72931271,  17.32485288,  28.91712395,  28.02670924,\n",
       "         22.23802626,   8.80722411,  20.84872869,  11.75265983,\n",
       "        -16.72311632,  18.10629881,   6.2631034 ,   3.34623179,\n",
       "          7.01694233,  -3.31077116,  -9.42205088,  -1.11135172,\n",
       "         -2.96525384]])"
      ]
     },
     "execution_count": 16,
     "metadata": {},
     "output_type": "execute_result"
    }
   ],
   "source": [
    "percent_diff"
   ]
  },
  {
   "cell_type": "code",
   "execution_count": 17,
   "metadata": {},
   "outputs": [
    {
     "data": {
      "text/plain": [
       "37"
      ]
     },
     "execution_count": 17,
     "metadata": {},
     "output_type": "execute_result"
    }
   ],
   "source": [
    "# we calculated yearly percentage increase, now find the year that has highest increase\n",
    "# simply find the index of the maximum element in percent_diff\n",
    "np.argmax(percent_diff)"
   ]
  },
  {
   "cell_type": "markdown",
   "metadata": {},
   "source": [
    "now find the year that corresponds to the index 37"
   ]
  },
  {
   "cell_type": "code",
   "execution_count": 18,
   "metadata": {},
   "outputs": [
    {
     "data": {
      "text/plain": [
       "array([1960, 1961, 1962, 1963, 1964, 1965, 1966, 1967, 1968, 1969, 1970,\n",
       "       1971, 1972, 1973, 1974, 1975, 1976, 1977, 1978, 1979, 1980, 1981,\n",
       "       1982, 1983, 1984, 1985, 1986, 1987, 1988, 1989, 1990, 1991, 1992,\n",
       "       1993, 1994, 1995, 1996, 1997, 1998, 1999, 2000, 2001, 2002, 2003,\n",
       "       2004, 2005, 2006, 2007, 2008, 2009, 2010, 2011, 2012, 2013, 2014,\n",
       "       2015, 2016, 2017])"
      ]
     },
     "execution_count": 18,
     "metadata": {},
     "output_type": "execute_result"
    }
   ],
   "source": [
    "years"
   ]
  },
  {
   "cell_type": "markdown",
   "metadata": {},
   "source": [
    "note that yearly percentage calculation starts from the year 1961"
   ]
  },
  {
   "cell_type": "code",
   "execution_count": 19,
   "metadata": {},
   "outputs": [
    {
     "data": {
      "text/plain": [
       "(58,)"
      ]
     },
     "execution_count": 19,
     "metadata": {},
     "output_type": "execute_result"
    }
   ],
   "source": [
    "years.shape"
   ]
  },
  {
   "cell_type": "code",
   "execution_count": 20,
   "metadata": {},
   "outputs": [],
   "source": [
    "years_index=years[1:]"
   ]
  },
  {
   "cell_type": "code",
   "execution_count": 21,
   "metadata": {},
   "outputs": [
    {
     "data": {
      "text/plain": [
       "array([1961, 1962, 1963, 1964, 1965, 1966, 1967, 1968, 1969, 1970, 1971,\n",
       "       1972, 1973, 1974, 1975, 1976, 1977, 1978, 1979, 1980, 1981, 1982,\n",
       "       1983, 1984, 1985, 1986, 1987, 1988, 1989, 1990, 1991, 1992, 1993,\n",
       "       1994, 1995, 1996, 1997, 1998, 1999, 2000, 2001, 2002, 2003, 2004,\n",
       "       2005, 2006, 2007, 2008, 2009, 2010, 2011, 2012, 2013, 2014, 2015,\n",
       "       2016, 2017])"
      ]
     },
     "execution_count": 21,
     "metadata": {},
     "output_type": "execute_result"
    }
   ],
   "source": [
    "years_index"
   ]
  },
  {
   "cell_type": "code",
   "execution_count": 22,
   "metadata": {},
   "outputs": [
    {
     "data": {
      "text/plain": [
       "1998"
      ]
     },
     "execution_count": 22,
     "metadata": {},
     "output_type": "execute_result"
    }
   ],
   "source": [
    "years_index[37]"
   ]
  },
  {
   "cell_type": "markdown",
   "metadata": {},
   "source": [
    "the answer is 1998!"
   ]
  },
  {
   "cell_type": "markdown",
   "metadata": {},
   "source": [
    "### Find the years that GDP per capita decreased compared to the previous year."
   ]
  },
  {
   "cell_type": "code",
   "execution_count": null,
   "metadata": {},
   "outputs": [],
   "source": []
  },
  {
   "cell_type": "code",
   "execution_count": null,
   "metadata": {},
   "outputs": [],
   "source": []
  },
  {
   "cell_type": "markdown",
   "metadata": {},
   "source": [
    "## For how many countries is the data available for all the years?"
   ]
  },
  {
   "cell_type": "markdown",
   "metadata": {},
   "source": [
    "You can use np.isnan function to check a value is NaN or not"
   ]
  },
  {
   "cell_type": "code",
   "execution_count": null,
   "metadata": {},
   "outputs": [],
   "source": [
    "a=np.array([np.nan,3.0,5.0])"
   ]
  },
  {
   "cell_type": "code",
   "execution_count": null,
   "metadata": {},
   "outputs": [],
   "source": [
    "a"
   ]
  },
  {
   "cell_type": "code",
   "execution_count": null,
   "metadata": {},
   "outputs": [],
   "source": [
    "np.isnan(a)"
   ]
  },
  {
   "cell_type": "markdown",
   "metadata": {},
   "source": [
    "let's go back to our original data array"
   ]
  },
  {
   "cell_type": "code",
   "execution_count": null,
   "metadata": {},
   "outputs": [],
   "source": [
    "data"
   ]
  },
  {
   "cell_type": "code",
   "execution_count": null,
   "metadata": {},
   "outputs": [],
   "source": [
    "# for each row calculate how many NaNs we have\n",
    "nan_data="
   ]
  },
  {
   "cell_type": "markdown",
   "metadata": {},
   "source": [
    "let's find the number of countries that have all the data points for all years"
   ]
  },
  {
   "cell_type": "code",
   "execution_count": null,
   "metadata": {},
   "outputs": [],
   "source": [
    "# now find the numbers of row having zero NaNs\n",
    "country_number="
   ]
  },
  {
   "cell_type": "markdown",
   "metadata": {},
   "source": [
    "### get the list of all the countries that have data points for all the years "
   ]
  },
  {
   "cell_type": "code",
   "execution_count": null,
   "metadata": {},
   "outputs": [],
   "source": [
    "# simply find the country's whose nan_data is zero\n"
   ]
  },
  {
   "cell_type": "code",
   "execution_count": null,
   "metadata": {},
   "outputs": [],
   "source": []
  }
 ],
 "metadata": {
  "kernelspec": {
   "display_name": "Python 3 (ipykernel)",
   "language": "python",
   "name": "python3"
  },
  "language_info": {
   "codemirror_mode": {
    "name": "ipython",
    "version": 3
   },
   "file_extension": ".py",
   "mimetype": "text/x-python",
   "name": "python",
   "nbconvert_exporter": "python",
   "pygments_lexer": "ipython3",
   "version": "3.9.7"
  }
 },
 "nbformat": 4,
 "nbformat_minor": 4
}
