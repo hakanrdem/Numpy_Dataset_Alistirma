{
 "cells": [
  {
   "cell_type": "markdown",
   "metadata": {
    "id": "cdxZP1TSIQSZ"
   },
   "source": [
    "# NumPy Library"
   ]
  },
  {
   "cell_type": "markdown",
   "metadata": {
    "id": "_b6KQVWGIQSd"
   },
   "source": [
    "Fundamental data type is ndarray (N-dimensional array)\n",
    "<br> NumPy arrays contain values of a single type"
   ]
  },
  {
   "cell_type": "code",
   "execution_count": 1,
   "metadata": {
    "id": "Hi5WfURRIQSe"
   },
   "outputs": [],
   "source": [
    "import numpy as np"
   ]
  },
  {
   "cell_type": "markdown",
   "metadata": {
    "id": "vR3GZ5SnIQSg"
   },
   "source": [
    "np.array() function creates a numpy ndarray"
   ]
  },
  {
   "cell_type": "code",
   "execution_count": 2,
   "metadata": {
    "id": "TyvsAnEGIQSh"
   },
   "outputs": [],
   "source": [
    "data1=[6,7.5,8,0,1]"
   ]
  },
  {
   "cell_type": "code",
   "execution_count": 5,
   "metadata": {},
   "outputs": [
    {
     "data": {
      "text/plain": [
       "[6, 7.5, 8, 0, 1]"
      ]
     },
     "execution_count": 5,
     "metadata": {},
     "output_type": "execute_result"
    }
   ],
   "source": [
    "data1"
   ]
  },
  {
   "cell_type": "code",
   "execution_count": 7,
   "metadata": {
    "id": "_sKP6on9IQSi"
   },
   "outputs": [],
   "source": [
    "arr1=np.array(data1)"
   ]
  },
  {
   "cell_type": "code",
   "execution_count": 8,
   "metadata": {
    "colab": {
     "base_uri": "https://localhost:8080/"
    },
    "executionInfo": {
     "elapsed": 8,
     "status": "ok",
     "timestamp": 1638000757588,
     "user": {
      "displayName": "sefer baday",
      "photoUrl": "https://lh3.googleusercontent.com/a/default-user=s64",
      "userId": "05968790297977678638"
     },
     "user_tz": -180
    },
    "id": "IJAo5iXAIQSj",
    "outputId": "282988eb-eab7-4110-a505-5bfd9c897506"
   },
   "outputs": [
    {
     "data": {
      "text/plain": [
       "array([6. , 7.5, 8. , 0. , 1. ])"
      ]
     },
     "execution_count": 8,
     "metadata": {},
     "output_type": "execute_result"
    }
   ],
   "source": [
    "arr1"
   ]
  },
  {
   "cell_type": "code",
   "execution_count": 9,
   "metadata": {
    "id": "vxAyVl1nIQSj"
   },
   "outputs": [
    {
     "data": {
      "text/plain": [
       "dtype('float64')"
      ]
     },
     "execution_count": 9,
     "metadata": {},
     "output_type": "execute_result"
    }
   ],
   "source": [
    "arr1.dtype"
   ]
  },
  {
   "cell_type": "code",
   "execution_count": 11,
   "metadata": {
    "id": "oHwcmizHIQSk"
   },
   "outputs": [],
   "source": [
    "data2=[[1,3,5],\n",
    "       [2,4,8]]"
   ]
  },
  {
   "cell_type": "code",
   "execution_count": 12,
   "metadata": {},
   "outputs": [
    {
     "data": {
      "text/plain": [
       "[[1, 3, 5], [2, 4, 8]]"
      ]
     },
     "execution_count": 12,
     "metadata": {},
     "output_type": "execute_result"
    }
   ],
   "source": [
    "data2"
   ]
  },
  {
   "cell_type": "code",
   "execution_count": 13,
   "metadata": {
    "id": "JAzgWg8OIQSk"
   },
   "outputs": [],
   "source": [
    "arr2=np.array(data2)"
   ]
  },
  {
   "cell_type": "code",
   "execution_count": 14,
   "metadata": {},
   "outputs": [
    {
     "data": {
      "text/plain": [
       "array([[1, 3, 5],\n",
       "       [2, 4, 8]])"
      ]
     },
     "execution_count": 14,
     "metadata": {},
     "output_type": "execute_result"
    }
   ],
   "source": [
    "arr2"
   ]
  },
  {
   "cell_type": "code",
   "execution_count": 15,
   "metadata": {
    "id": "jwUzjF-aIQSl"
   },
   "outputs": [
    {
     "data": {
      "text/plain": [
       "dtype('int64')"
      ]
     },
     "execution_count": 15,
     "metadata": {},
     "output_type": "execute_result"
    }
   ],
   "source": [
    "arr2.dtype"
   ]
  },
  {
   "cell_type": "markdown",
   "metadata": {
    "id": "N1uF7dEZIQSl"
   },
   "source": [
    "Unless explicitly specified (more on this later), np.array tries to infer a good data type for the array that it creates"
   ]
  },
  {
   "cell_type": "markdown",
   "metadata": {
    "id": "HTGxQD7ZIQSm"
   },
   "source": [
    "np.zeros(),np.ones creates of 0’s or 1’s, respectively, with a given length or shape"
   ]
  },
  {
   "cell_type": "code",
   "execution_count": 16,
   "metadata": {
    "id": "zWlcv7enIQSm"
   },
   "outputs": [
    {
     "data": {
      "text/plain": [
       "array([0., 0., 0., 0., 0., 0., 0., 0., 0., 0.])"
      ]
     },
     "execution_count": 16,
     "metadata": {},
     "output_type": "execute_result"
    }
   ],
   "source": [
    "np.zeros(10)"
   ]
  },
  {
   "cell_type": "code",
   "execution_count": 17,
   "metadata": {
    "id": "JcmIg46LIQSn"
   },
   "outputs": [
    {
     "data": {
      "text/plain": [
       "array([[0., 0., 0., 0.],\n",
       "       [0., 0., 0., 0.],\n",
       "       [0., 0., 0., 0.],\n",
       "       [0., 0., 0., 0.]])"
      ]
     },
     "execution_count": 17,
     "metadata": {},
     "output_type": "execute_result"
    }
   ],
   "source": [
    "np.zeros((4,4))"
   ]
  },
  {
   "cell_type": "code",
   "execution_count": 18,
   "metadata": {
    "id": "QGWyU8zrIQSn"
   },
   "outputs": [
    {
     "data": {
      "text/plain": [
       "array([[10, 10, 10, 10, 10],\n",
       "       [10, 10, 10, 10, 10],\n",
       "       [10, 10, 10, 10, 10],\n",
       "       [10, 10, 10, 10, 10]])"
      ]
     },
     "execution_count": 18,
     "metadata": {},
     "output_type": "execute_result"
    }
   ],
   "source": [
    "np.full((4,5),10)"
   ]
  },
  {
   "cell_type": "code",
   "execution_count": 19,
   "metadata": {
    "id": "ZDdGZHmuIQSo"
   },
   "outputs": [
    {
     "data": {
      "text/plain": [
       "array([[1., 1., 1., 1., 1.],\n",
       "       [1., 1., 1., 1., 1.],\n",
       "       [1., 1., 1., 1., 1.],\n",
       "       [1., 1., 1., 1., 1.]])"
      ]
     },
     "execution_count": 19,
     "metadata": {},
     "output_type": "execute_result"
    }
   ],
   "source": [
    "np.ones((4,5))"
   ]
  },
  {
   "cell_type": "markdown",
   "metadata": {
    "id": "i2unnFiAIQSp"
   },
   "source": [
    "You can define data types as you create ndarrays"
   ]
  },
  {
   "cell_type": "code",
   "execution_count": 20,
   "metadata": {
    "id": "NEXLVnWIIQSp"
   },
   "outputs": [],
   "source": [
    "arr1=np.array([1,2,3],dtype=float)"
   ]
  },
  {
   "cell_type": "code",
   "execution_count": 21,
   "metadata": {},
   "outputs": [
    {
     "data": {
      "text/plain": [
       "array([1., 2., 3.])"
      ]
     },
     "execution_count": 21,
     "metadata": {},
     "output_type": "execute_result"
    }
   ],
   "source": [
    "arr1"
   ]
  },
  {
   "cell_type": "code",
   "execution_count": 23,
   "metadata": {
    "id": "cuz7IHREIQSq"
   },
   "outputs": [],
   "source": [
    "arr2=np.array([1,2,3],dtype=int)"
   ]
  },
  {
   "cell_type": "code",
   "execution_count": 24,
   "metadata": {},
   "outputs": [
    {
     "data": {
      "text/plain": [
       "array([1, 2, 3])"
      ]
     },
     "execution_count": 24,
     "metadata": {},
     "output_type": "execute_result"
    }
   ],
   "source": [
    "arr2"
   ]
  },
  {
   "cell_type": "code",
   "execution_count": 25,
   "metadata": {
    "id": "7NYjtBcJIQSq"
   },
   "outputs": [
    {
     "data": {
      "text/plain": [
       "dtype('float64')"
      ]
     },
     "execution_count": 25,
     "metadata": {},
     "output_type": "execute_result"
    }
   ],
   "source": [
    "arr1.dtype"
   ]
  },
  {
   "cell_type": "code",
   "execution_count": 26,
   "metadata": {
    "id": "F0ev4g0tIQSq"
   },
   "outputs": [
    {
     "data": {
      "text/plain": [
       "dtype('int64')"
      ]
     },
     "execution_count": 26,
     "metadata": {},
     "output_type": "execute_result"
    }
   ],
   "source": [
    "arr2.dtype"
   ]
  },
  {
   "cell_type": "markdown",
   "metadata": {
    "id": "Lrnp7RUJIQSq"
   },
   "source": [
    "### NumPy Standard Data Types "
   ]
  },
  {
   "cell_type": "markdown",
   "metadata": {
    "id": "usuZbBcyIQSr"
   },
   "source": [
    "https://numpy.org/devdocs/user/basics.types.html"
   ]
  },
  {
   "cell_type": "markdown",
   "metadata": {
    "id": "M13sm2c1IQSr"
   },
   "source": [
    "<div>\n",
    "<img src=\"attachment:Screen%20Shot%202020-11-28%20at%2018.18.27.png\" width=\"500\"/>\n",
    "</div>\n"
   ]
  },
  {
   "cell_type": "markdown",
   "metadata": {
    "id": "tmv86R0DIQSr"
   },
   "source": [
    "If you want to learn more about data representations\n",
    "- https://www3.ntu.edu.sg/home/ehchua/programming/java/datarepresentation.html"
   ]
  },
  {
   "cell_type": "code",
   "execution_count": 27,
   "metadata": {
    "id": "qejk-NtvIQSr"
   },
   "outputs": [],
   "source": [
    "x=np.array(100,dtype=np.int8)"
   ]
  },
  {
   "cell_type": "code",
   "execution_count": 28,
   "metadata": {
    "id": "aVF8T-BmIQSr"
   },
   "outputs": [
    {
     "data": {
      "text/plain": [
       "array(100, dtype=int8)"
      ]
     },
     "execution_count": 28,
     "metadata": {},
     "output_type": "execute_result"
    }
   ],
   "source": [
    "x"
   ]
  },
  {
   "cell_type": "code",
   "execution_count": 29,
   "metadata": {
    "id": "nsRCeUIFIQSs"
   },
   "outputs": [
    {
     "data": {
      "text/plain": [
       "1"
      ]
     },
     "execution_count": 29,
     "metadata": {},
     "output_type": "execute_result"
    }
   ],
   "source": [
    "x.nbytes"
   ]
  },
  {
   "cell_type": "code",
   "execution_count": null,
   "metadata": {
    "id": "mBmtiM2KIQSs"
   },
   "outputs": [],
   "source": [
    "x=np.array(100,dtype=np.int32)"
   ]
  },
  {
   "cell_type": "code",
   "execution_count": null,
   "metadata": {
    "id": "q86eu7KSIQSs"
   },
   "outputs": [],
   "source": [
    "x"
   ]
  },
  {
   "cell_type": "code",
   "execution_count": null,
   "metadata": {
    "id": "04CCWgQvIQSs"
   },
   "outputs": [],
   "source": [
    "x.nbytes"
   ]
  },
  {
   "cell_type": "markdown",
   "metadata": {
    "id": "zp180awrIQSt"
   },
   "source": [
    "<div>\n",
    "<img src=\"attachment:Screen%20Shot%202020-11-29%20at%2022.41.57.png\" width=\"500\"/>\n",
    "</div>"
   ]
  },
  {
   "cell_type": "code",
   "execution_count": 30,
   "metadata": {
    "id": "0VUseRECIQSt"
   },
   "outputs": [],
   "source": [
    "x=np.array(\"t\",dtype=\"str\")"
   ]
  },
  {
   "cell_type": "code",
   "execution_count": 31,
   "metadata": {
    "id": "2jRdFUWYIQSt"
   },
   "outputs": [
    {
     "data": {
      "text/plain": [
       "array('t', dtype='<U1')"
      ]
     },
     "execution_count": 31,
     "metadata": {},
     "output_type": "execute_result"
    }
   ],
   "source": [
    "x"
   ]
  },
  {
   "cell_type": "code",
   "execution_count": null,
   "metadata": {
    "id": "ZVhegyRHIQSt"
   },
   "outputs": [],
   "source": [
    "x.nbytes"
   ]
  },
  {
   "cell_type": "code",
   "execution_count": 32,
   "metadata": {
    "id": "MPwBHkcVIQSu"
   },
   "outputs": [],
   "source": [
    "x=np.array([\"t\",\"ta\"],dtype=\"str\")"
   ]
  },
  {
   "cell_type": "code",
   "execution_count": 33,
   "metadata": {
    "id": "itiSV_9OIQSu"
   },
   "outputs": [
    {
     "data": {
      "text/plain": [
       "16"
      ]
     },
     "execution_count": 33,
     "metadata": {},
     "output_type": "execute_result"
    }
   ],
   "source": [
    "x.nbytes"
   ]
  },
  {
   "cell_type": "code",
   "execution_count": 34,
   "metadata": {
    "id": "huQClkQOIQSu"
   },
   "outputs": [
    {
     "data": {
      "text/plain": [
       "dtype('<U2')"
      ]
     },
     "execution_count": 34,
     "metadata": {},
     "output_type": "execute_result"
    }
   ],
   "source": [
    "x.dtype"
   ]
  },
  {
   "cell_type": "code",
   "execution_count": 35,
   "metadata": {
    "id": "ajzhGHcLIQSv"
   },
   "outputs": [],
   "source": [
    "x=np.array(\"t\",dtype=\"U5\")"
   ]
  },
  {
   "cell_type": "code",
   "execution_count": 36,
   "metadata": {
    "id": "WDnmK4V4IQSv"
   },
   "outputs": [
    {
     "data": {
      "text/plain": [
       "array('t', dtype='<U5')"
      ]
     },
     "execution_count": 36,
     "metadata": {},
     "output_type": "execute_result"
    }
   ],
   "source": [
    "x"
   ]
  },
  {
   "cell_type": "code",
   "execution_count": 37,
   "metadata": {
    "id": "UGHAkW1XIQSv"
   },
   "outputs": [
    {
     "data": {
      "text/plain": [
       "20"
      ]
     },
     "execution_count": 37,
     "metadata": {},
     "output_type": "execute_result"
    }
   ],
   "source": [
    "x.nbytes"
   ]
  },
  {
   "cell_type": "code",
   "execution_count": 38,
   "metadata": {
    "id": "hO36ooQ9IQSv"
   },
   "outputs": [],
   "source": [
    "x=np.array(\"t\",dtype=\"S5\")"
   ]
  },
  {
   "cell_type": "code",
   "execution_count": 39,
   "metadata": {
    "id": "I6fejiDIIQSw"
   },
   "outputs": [
    {
     "data": {
      "text/plain": [
       "5"
      ]
     },
     "execution_count": 39,
     "metadata": {},
     "output_type": "execute_result"
    }
   ],
   "source": [
    "x.nbytes"
   ]
  },
  {
   "cell_type": "code",
   "execution_count": 40,
   "metadata": {
    "id": "QMhF3gsKIQSw"
   },
   "outputs": [
    {
     "ename": "UnicodeEncodeError",
     "evalue": "'ascii' codec can't encode character '\\xf6' in position 0: ordinal not in range(128)",
     "output_type": "error",
     "traceback": [
      "\u001b[0;31m---------------------------------------------------------------------------\u001b[0m",
      "\u001b[0;31mUnicodeEncodeError\u001b[0m                        Traceback (most recent call last)",
      "\u001b[0;32m/var/folders/nn/py__5s8n69jgy5v1njqmdq500000gn/T/ipykernel_6743/1821172028.py\u001b[0m in \u001b[0;36m<module>\u001b[0;34m\u001b[0m\n\u001b[0;32m----> 1\u001b[0;31m \u001b[0mx\u001b[0m\u001b[0;34m=\u001b[0m\u001b[0mnp\u001b[0m\u001b[0;34m.\u001b[0m\u001b[0marray\u001b[0m\u001b[0;34m(\u001b[0m\u001b[0;34m\"ö\"\u001b[0m\u001b[0;34m,\u001b[0m\u001b[0mdtype\u001b[0m\u001b[0;34m=\u001b[0m\u001b[0;34m\"S5\"\u001b[0m\u001b[0;34m)\u001b[0m\u001b[0;34m\u001b[0m\u001b[0;34m\u001b[0m\u001b[0m\n\u001b[0m",
      "\u001b[0;31mUnicodeEncodeError\u001b[0m: 'ascii' codec can't encode character '\\xf6' in position 0: ordinal not in range(128)"
     ]
    }
   ],
   "source": [
    "x=np.array(\"ö\",dtype=\"S5\")"
   ]
  },
  {
   "cell_type": "markdown",
   "metadata": {
    "id": "kWyxidlgIQSw"
   },
   "source": [
    "### Changing the data type with astype function "
   ]
  },
  {
   "cell_type": "markdown",
   "metadata": {
    "id": "Npw6bnckIQSw"
   },
   "source": [
    "You can change type of the data if you wish."
   ]
  },
  {
   "cell_type": "code",
   "execution_count": 41,
   "metadata": {
    "id": "cJTxf61JIQSx"
   },
   "outputs": [],
   "source": [
    "arr=np.array([1,2,3,4,5])"
   ]
  },
  {
   "cell_type": "code",
   "execution_count": 42,
   "metadata": {
    "id": "EMH3ItapIQSx"
   },
   "outputs": [
    {
     "data": {
      "text/plain": [
       "dtype('int64')"
      ]
     },
     "execution_count": 42,
     "metadata": {},
     "output_type": "execute_result"
    }
   ],
   "source": [
    "arr.dtype"
   ]
  },
  {
   "cell_type": "code",
   "execution_count": 43,
   "metadata": {
    "id": "Me7_ILyoIQSx"
   },
   "outputs": [],
   "source": [
    "arr=arr.astype(float)"
   ]
  },
  {
   "cell_type": "code",
   "execution_count": 44,
   "metadata": {
    "id": "BiMv5NH_IQSz"
   },
   "outputs": [
    {
     "data": {
      "text/plain": [
       "dtype('float64')"
      ]
     },
     "execution_count": 44,
     "metadata": {},
     "output_type": "execute_result"
    }
   ],
   "source": [
    "arr.dtype"
   ]
  },
  {
   "cell_type": "markdown",
   "metadata": {
    "id": "OTYb77v6IQSz"
   },
   "source": [
    "### np.arange() function similar to range function creates array from a given interval"
   ]
  },
  {
   "cell_type": "code",
   "execution_count": 45,
   "metadata": {
    "id": "eJfktcn4IQS0"
   },
   "outputs": [],
   "source": [
    "arr=np.arange(5,10)"
   ]
  },
  {
   "cell_type": "code",
   "execution_count": 46,
   "metadata": {
    "id": "5rVDCztJIQS0"
   },
   "outputs": [
    {
     "data": {
      "text/plain": [
       "array([5, 6, 7, 8, 9])"
      ]
     },
     "execution_count": 46,
     "metadata": {},
     "output_type": "execute_result"
    }
   ],
   "source": [
    "arr"
   ]
  },
  {
   "cell_type": "markdown",
   "metadata": {
    "id": "rMIRDe0VIQS0"
   },
   "source": [
    "np.dim returns This array attribute returns the number of array dimensions.\n",
    "<br> np.shape attribute returns a tuple consisting of array dimensions"
   ]
  },
  {
   "cell_type": "code",
   "execution_count": 48,
   "metadata": {
    "id": "ZeuuTzZ7IQS0"
   },
   "outputs": [],
   "source": [
    "x=np.array([[1,2,3],[4,5,6]])"
   ]
  },
  {
   "cell_type": "code",
   "execution_count": 49,
   "metadata": {},
   "outputs": [
    {
     "data": {
      "text/plain": [
       "array([[1, 2, 3],\n",
       "       [4, 5, 6]])"
      ]
     },
     "execution_count": 49,
     "metadata": {},
     "output_type": "execute_result"
    }
   ],
   "source": [
    "x"
   ]
  },
  {
   "cell_type": "code",
   "execution_count": 50,
   "metadata": {
    "id": "QD89wHTFIQS1"
   },
   "outputs": [
    {
     "data": {
      "text/plain": [
       "(2, 3)"
      ]
     },
     "execution_count": 50,
     "metadata": {},
     "output_type": "execute_result"
    }
   ],
   "source": [
    "x.shape"
   ]
  },
  {
   "cell_type": "code",
   "execution_count": 51,
   "metadata": {
    "id": "OLcX79wLIQS2"
   },
   "outputs": [
    {
     "data": {
      "text/plain": [
       "2"
      ]
     },
     "execution_count": 51,
     "metadata": {},
     "output_type": "execute_result"
    }
   ],
   "source": [
    "x.ndim"
   ]
  },
  {
   "cell_type": "markdown",
   "metadata": {
    "id": "etCtEFZrIQS2"
   },
   "source": [
    "### Array creation functions"
   ]
  },
  {
   "cell_type": "markdown",
   "metadata": {
    "id": "-giDt3_mIQS2"
   },
   "source": [
    "<div>\n",
    "<img src=\"attachment:Screen%20Shot%202020-11-28%20at%2018.40.48.png\" width=\"800\"/>\n",
    "</div>\n"
   ]
  },
  {
   "cell_type": "markdown",
   "metadata": {
    "id": "jsYeBTW3IQS2"
   },
   "source": [
    "## np.append(array,values,axis)\n",
    "<br> This function adds values at the end of an input array.\n",
    "<br> The append operation is not inplace, a new array is allocated."
   ]
  },
  {
   "cell_type": "code",
   "execution_count": 53,
   "metadata": {
    "id": "bD_9VzfoIQS2"
   },
   "outputs": [],
   "source": [
    "a=np.array([[1,2,3],[4,5,6]])"
   ]
  },
  {
   "cell_type": "code",
   "execution_count": 54,
   "metadata": {
    "id": "3PbOPuA0IQS2"
   },
   "outputs": [
    {
     "data": {
      "text/plain": [
       "array([[1, 2, 3],\n",
       "       [4, 5, 6]])"
      ]
     },
     "execution_count": 54,
     "metadata": {},
     "output_type": "execute_result"
    }
   ],
   "source": [
    "a"
   ]
  },
  {
   "cell_type": "code",
   "execution_count": 55,
   "metadata": {
    "id": "0ZaG1BPTIQS2"
   },
   "outputs": [
    {
     "data": {
      "text/plain": [
       "array([[1, 2, 3],\n",
       "       [4, 5, 6],\n",
       "       [4, 6, 8]])"
      ]
     },
     "execution_count": 55,
     "metadata": {},
     "output_type": "execute_result"
    }
   ],
   "source": [
    "np.append(a,[[4,6,8]],axis=0)"
   ]
  },
  {
   "cell_type": "code",
   "execution_count": 56,
   "metadata": {
    "id": "Q2PGUurkIQS3"
   },
   "outputs": [
    {
     "data": {
      "text/plain": [
       "array([[1, 2, 3],\n",
       "       [4, 5, 6]])"
      ]
     },
     "execution_count": 56,
     "metadata": {},
     "output_type": "execute_result"
    }
   ],
   "source": [
    "a"
   ]
  },
  {
   "cell_type": "code",
   "execution_count": 57,
   "metadata": {
    "id": "-0kLHZDZIQS3"
   },
   "outputs": [
    {
     "data": {
      "text/plain": [
       "array([[1, 2, 3, 4],\n",
       "       [4, 5, 6, 8]])"
      ]
     },
     "execution_count": 57,
     "metadata": {},
     "output_type": "execute_result"
    }
   ],
   "source": [
    "np.append(a,[[4],[8]],axis=1)"
   ]
  },
  {
   "cell_type": "code",
   "execution_count": 58,
   "metadata": {
    "id": "8JnoCW7iIQS3"
   },
   "outputs": [
    {
     "ename": "ValueError",
     "evalue": "all the input arrays must have same number of dimensions, but the array at index 0 has 2 dimension(s) and the array at index 1 has 1 dimension(s)",
     "output_type": "error",
     "traceback": [
      "\u001b[0;31m---------------------------------------------------------------------------\u001b[0m",
      "\u001b[0;31mValueError\u001b[0m                                Traceback (most recent call last)",
      "\u001b[0;32m/var/folders/nn/py__5s8n69jgy5v1njqmdq500000gn/T/ipykernel_6743/1761050847.py\u001b[0m in \u001b[0;36m<module>\u001b[0;34m\u001b[0m\n\u001b[0;32m----> 1\u001b[0;31m \u001b[0mnp\u001b[0m\u001b[0;34m.\u001b[0m\u001b[0mappend\u001b[0m\u001b[0;34m(\u001b[0m\u001b[0ma\u001b[0m\u001b[0;34m,\u001b[0m\u001b[0;34m[\u001b[0m\u001b[0;36m4\u001b[0m\u001b[0;34m,\u001b[0m\u001b[0;36m6\u001b[0m\u001b[0;34m,\u001b[0m\u001b[0;36m8\u001b[0m\u001b[0;34m]\u001b[0m\u001b[0;34m,\u001b[0m\u001b[0maxis\u001b[0m\u001b[0;34m=\u001b[0m\u001b[0;36m0\u001b[0m\u001b[0;34m)\u001b[0m\u001b[0;34m\u001b[0m\u001b[0;34m\u001b[0m\u001b[0m\n\u001b[0m",
      "\u001b[0;32m<__array_function__ internals>\u001b[0m in \u001b[0;36mappend\u001b[0;34m(*args, **kwargs)\u001b[0m\n",
      "\u001b[0;32m/opt/anaconda3/lib/python3.9/site-packages/numpy/lib/function_base.py\u001b[0m in \u001b[0;36mappend\u001b[0;34m(arr, values, axis)\u001b[0m\n\u001b[1;32m   4743\u001b[0m         \u001b[0mvalues\u001b[0m \u001b[0;34m=\u001b[0m \u001b[0mravel\u001b[0m\u001b[0;34m(\u001b[0m\u001b[0mvalues\u001b[0m\u001b[0;34m)\u001b[0m\u001b[0;34m\u001b[0m\u001b[0;34m\u001b[0m\u001b[0m\n\u001b[1;32m   4744\u001b[0m         \u001b[0maxis\u001b[0m \u001b[0;34m=\u001b[0m \u001b[0marr\u001b[0m\u001b[0;34m.\u001b[0m\u001b[0mndim\u001b[0m\u001b[0;34m-\u001b[0m\u001b[0;36m1\u001b[0m\u001b[0;34m\u001b[0m\u001b[0;34m\u001b[0m\u001b[0m\n\u001b[0;32m-> 4745\u001b[0;31m     \u001b[0;32mreturn\u001b[0m \u001b[0mconcatenate\u001b[0m\u001b[0;34m(\u001b[0m\u001b[0;34m(\u001b[0m\u001b[0marr\u001b[0m\u001b[0;34m,\u001b[0m \u001b[0mvalues\u001b[0m\u001b[0;34m)\u001b[0m\u001b[0;34m,\u001b[0m \u001b[0maxis\u001b[0m\u001b[0;34m=\u001b[0m\u001b[0maxis\u001b[0m\u001b[0;34m)\u001b[0m\u001b[0;34m\u001b[0m\u001b[0;34m\u001b[0m\u001b[0m\n\u001b[0m\u001b[1;32m   4746\u001b[0m \u001b[0;34m\u001b[0m\u001b[0m\n\u001b[1;32m   4747\u001b[0m \u001b[0;34m\u001b[0m\u001b[0m\n",
      "\u001b[0;32m<__array_function__ internals>\u001b[0m in \u001b[0;36mconcatenate\u001b[0;34m(*args, **kwargs)\u001b[0m\n",
      "\u001b[0;31mValueError\u001b[0m: all the input arrays must have same number of dimensions, but the array at index 0 has 2 dimension(s) and the array at index 1 has 1 dimension(s)"
     ]
    }
   ],
   "source": [
    "np.append(a,[4,6,8],axis=0)"
   ]
  },
  {
   "cell_type": "markdown",
   "metadata": {
    "id": "t3uD7y0eIQS3"
   },
   "source": [
    "we got an error for the above script, because dimensions did not match"
   ]
  },
  {
   "cell_type": "code",
   "execution_count": 59,
   "metadata": {
    "id": "S-3vnEptIQS4"
   },
   "outputs": [],
   "source": [
    "array=np.array([2,4,4])"
   ]
  },
  {
   "cell_type": "code",
   "execution_count": 60,
   "metadata": {
    "id": "-sZ5o1sMIQS4"
   },
   "outputs": [
    {
     "data": {
      "text/plain": [
       "(3,)"
      ]
     },
     "execution_count": 60,
     "metadata": {},
     "output_type": "execute_result"
    }
   ],
   "source": [
    "array.shape"
   ]
  },
  {
   "cell_type": "code",
   "execution_count": 61,
   "metadata": {
    "id": "CN4H5PULIQS4"
   },
   "outputs": [
    {
     "data": {
      "text/plain": [
       "1"
      ]
     },
     "execution_count": 61,
     "metadata": {},
     "output_type": "execute_result"
    }
   ],
   "source": [
    "array.ndim"
   ]
  },
  {
   "cell_type": "code",
   "execution_count": 65,
   "metadata": {
    "id": "7PdMdD0VIQS4"
   },
   "outputs": [],
   "source": [
    "array=np.array([[2,4,4]])"
   ]
  },
  {
   "cell_type": "code",
   "execution_count": 63,
   "metadata": {
    "id": "BQk9OGC1IQS5"
   },
   "outputs": [
    {
     "data": {
      "text/plain": [
       "(1, 3)"
      ]
     },
     "execution_count": 63,
     "metadata": {},
     "output_type": "execute_result"
    }
   ],
   "source": [
    "array.shape"
   ]
  },
  {
   "cell_type": "code",
   "execution_count": 64,
   "metadata": {
    "id": "M8HjixGKIQS6"
   },
   "outputs": [
    {
     "data": {
      "text/plain": [
       "2"
      ]
     },
     "execution_count": 64,
     "metadata": {},
     "output_type": "execute_result"
    }
   ],
   "source": [
    "array.ndim"
   ]
  },
  {
   "cell_type": "markdown",
   "metadata": {
    "id": "fxMdR0zTIQS6"
   },
   "source": [
    "## Operations between Arrays and Scalars"
   ]
  },
  {
   "cell_type": "code",
   "execution_count": 69,
   "metadata": {
    "id": "PJpTJGWwIQS6"
   },
   "outputs": [
    {
     "data": {
      "text/plain": [
       "array([0, 1, 2, 3, 4, 5, 6, 7, 8, 9])"
      ]
     },
     "execution_count": 69,
     "metadata": {},
     "output_type": "execute_result"
    }
   ],
   "source": [
    "a=np.arange(10);a"
   ]
  },
  {
   "cell_type": "code",
   "execution_count": 70,
   "metadata": {
    "id": "-XMjctvoIQS6"
   },
   "outputs": [
    {
     "data": {
      "text/plain": [
       "array([ 0,  5, 10, 15, 20, 25, 30, 35, 40, 45])"
      ]
     },
     "execution_count": 70,
     "metadata": {},
     "output_type": "execute_result"
    }
   ],
   "source": [
    "a*5"
   ]
  },
  {
   "cell_type": "markdown",
   "metadata": {
    "id": "yVlJ74NgIQS7"
   },
   "source": [
    "if we wanted to do the same operation using list"
   ]
  },
  {
   "cell_type": "code",
   "execution_count": 1,
   "metadata": {
    "id": "p54Ij_uuIQS7"
   },
   "outputs": [],
   "source": [
    "l=list(range(10))"
   ]
  },
  {
   "cell_type": "code",
   "execution_count": 2,
   "metadata": {},
   "outputs": [
    {
     "data": {
      "text/plain": [
       "[0, 1, 2, 3, 4, 5, 6, 7, 8, 9]"
      ]
     },
     "execution_count": 2,
     "metadata": {},
     "output_type": "execute_result"
    }
   ],
   "source": [
    "l"
   ]
  },
  {
   "cell_type": "code",
   "execution_count": null,
   "metadata": {
    "id": "_wJsq9aoIQS7"
   },
   "outputs": [],
   "source": [
    "[x*5 for x in l]"
   ]
  },
  {
   "cell_type": "code",
   "execution_count": null,
   "metadata": {
    "id": "f0LNwPX1IQS8"
   },
   "outputs": [],
   "source": [
    "b=np.arange(10)"
   ]
  },
  {
   "cell_type": "code",
   "execution_count": null,
   "metadata": {
    "id": "KAhgR2ufIQS8"
   },
   "outputs": [],
   "source": [
    "a+b"
   ]
  },
  {
   "cell_type": "code",
   "execution_count": null,
   "metadata": {
    "id": "MfC-ST6cIQS8"
   },
   "outputs": [],
   "source": [
    "mylist=[[1,2,3],[4,5,6],[7,8,9]];mylist"
   ]
  },
  {
   "cell_type": "markdown",
   "metadata": {
    "id": "8qdwHhkIIQS8"
   },
   "source": [
    "let's multiply every element of this mylist with 3"
   ]
  },
  {
   "cell_type": "code",
   "execution_count": null,
   "metadata": {
    "id": "MnQJlLKwIQS9"
   },
   "outputs": [],
   "source": [
    "for i in range(len(mylist)):\n",
    "    for j in range(len(mylist[0])):\n",
    "        mylist[i][j]=mylist[i][j]*3"
   ]
  },
  {
   "cell_type": "code",
   "execution_count": null,
   "metadata": {
    "id": "AkVL4eAfIQS9"
   },
   "outputs": [],
   "source": [
    "mylist"
   ]
  },
  {
   "cell_type": "markdown",
   "metadata": {
    "id": "P-jq4SlmIQS9"
   },
   "source": [
    "do the same operation using numpy"
   ]
  },
  {
   "cell_type": "code",
   "execution_count": 100,
   "metadata": {
    "id": "-sVCJ3EcIQS9"
   },
   "outputs": [
    {
     "data": {
      "text/plain": [
       "array([[[ 0,  1],\n",
       "        [ 2,  3],\n",
       "        [ 4,  5],\n",
       "        [ 6,  7]],\n",
       "\n",
       "       [[ 8,  9],\n",
       "        [10, 11],\n",
       "        [12, 13],\n",
       "        [14, 15]],\n",
       "\n",
       "       [[16, 17],\n",
       "        [18, 19],\n",
       "        [20, 21],\n",
       "        [22, 23]]])"
      ]
     },
     "execution_count": 100,
     "metadata": {},
     "output_type": "execute_result"
    }
   ],
   "source": [
    "a=np.arange(24).reshape(3,4,2);a"
   ]
  },
  {
   "cell_type": "markdown",
   "metadata": {
    "id": "NNXZsHYUIQS9"
   },
   "source": [
    "## Ndarray indexing with slices"
   ]
  },
  {
   "cell_type": "code",
   "execution_count": 104,
   "metadata": {
    "id": "3BgB8-BQIQS-"
   },
   "outputs": [
    {
     "data": {
      "text/plain": [
       "array([[ 4,  5],\n",
       "       [20, 21]])"
      ]
     },
     "execution_count": 104,
     "metadata": {},
     "output_type": "execute_result"
    }
   ],
   "source": [
    "a[(0,2),2,:]"
   ]
  },
  {
   "cell_type": "code",
   "execution_count": 99,
   "metadata": {},
   "outputs": [
    {
     "data": {
      "text/plain": [
       "array([ 5,  6,  7,  8,  9, 10])"
      ]
     },
     "execution_count": 99,
     "metadata": {},
     "output_type": "execute_result"
    }
   ],
   "source": [
    "a=np.arange(5,11);a"
   ]
  },
  {
   "cell_type": "code",
   "execution_count": 87,
   "metadata": {
    "id": "wtBRvtKEIQS-"
   },
   "outputs": [
    {
     "data": {
      "text/plain": [
       "(5, 10)"
      ]
     },
     "execution_count": 87,
     "metadata": {},
     "output_type": "execute_result"
    }
   ],
   "source": [
    "a[0],a[-1]"
   ]
  },
  {
   "cell_type": "code",
   "execution_count": null,
   "metadata": {
    "id": "MVlJG9JlIQS-"
   },
   "outputs": [],
   "source": [
    "a[0:3]"
   ]
  },
  {
   "cell_type": "code",
   "execution_count": 88,
   "metadata": {
    "id": "6t_Cc1uzIQS-"
   },
   "outputs": [],
   "source": [
    "arr2d=np.array([[1,2,3],[4,5,6],[7,8,9]])"
   ]
  },
  {
   "cell_type": "code",
   "execution_count": 89,
   "metadata": {
    "id": "SxrkOoiOIQS_"
   },
   "outputs": [
    {
     "data": {
      "text/plain": [
       "array([[1, 2, 3],\n",
       "       [4, 5, 6],\n",
       "       [7, 8, 9]])"
      ]
     },
     "execution_count": 89,
     "metadata": {},
     "output_type": "execute_result"
    }
   ],
   "source": [
    "arr2d"
   ]
  },
  {
   "cell_type": "code",
   "execution_count": 90,
   "metadata": {
    "id": "HAh3pSpIIQS_"
   },
   "outputs": [
    {
     "data": {
      "text/plain": [
       "5"
      ]
     },
     "execution_count": 90,
     "metadata": {},
     "output_type": "execute_result"
    }
   ],
   "source": [
    "arr2d[1,1]"
   ]
  },
  {
   "cell_type": "code",
   "execution_count": 91,
   "metadata": {
    "id": "aM_3ur2aIQS_"
   },
   "outputs": [
    {
     "data": {
      "text/plain": [
       "array([5, 8])"
      ]
     },
     "execution_count": 91,
     "metadata": {},
     "output_type": "execute_result"
    }
   ],
   "source": [
    "arr2d[1:,1]"
   ]
  },
  {
   "cell_type": "code",
   "execution_count": 94,
   "metadata": {
    "id": "uwGpHq7qIQS_"
   },
   "outputs": [
    {
     "data": {
      "text/plain": [
       "array([[5, 6],\n",
       "       [8, 9]])"
      ]
     },
     "execution_count": 94,
     "metadata": {},
     "output_type": "execute_result"
    }
   ],
   "source": [
    "arr2d[1:,1:]"
   ]
  },
  {
   "cell_type": "code",
   "execution_count": 93,
   "metadata": {
    "id": "ydk414RfIQTA"
   },
   "outputs": [
    {
     "data": {
      "text/plain": [
       "array([[1, 2, 3],\n",
       "       [4, 5, 6]])"
      ]
     },
     "execution_count": 93,
     "metadata": {},
     "output_type": "execute_result"
    }
   ],
   "source": [
    "arr2d[:2]"
   ]
  },
  {
   "cell_type": "code",
   "execution_count": 92,
   "metadata": {
    "id": "JoprHXxuIQTB"
   },
   "outputs": [
    {
     "data": {
      "text/plain": [
       "array([[2, 3],\n",
       "       [5, 6],\n",
       "       [8, 9]])"
      ]
     },
     "execution_count": 92,
     "metadata": {},
     "output_type": "execute_result"
    }
   ],
   "source": [
    "arr2d[:,1:]"
   ]
  },
  {
   "cell_type": "markdown",
   "metadata": {
    "id": "phQ2yKxCIQTB"
   },
   "source": [
    " ### An important first distinction from lists is that array slices are views on the original array. "
   ]
  },
  {
   "cell_type": "markdown",
   "metadata": {
    "id": "8NboZUp2IQTC"
   },
   "source": [
    "This means that the data is not copied, and any modifications to the view will be reflected in the source array."
   ]
  },
  {
   "cell_type": "code",
   "execution_count": 105,
   "metadata": {
    "id": "swcm1qrZIQTD"
   },
   "outputs": [
    {
     "data": {
      "text/plain": [
       "array([0, 1, 2, 3, 4, 5, 6, 7, 8, 9])"
      ]
     },
     "execution_count": 105,
     "metadata": {},
     "output_type": "execute_result"
    }
   ],
   "source": [
    "arr=np.arange(10);arr"
   ]
  },
  {
   "cell_type": "code",
   "execution_count": 106,
   "metadata": {
    "id": "qlnit04XIQTD"
   },
   "outputs": [],
   "source": [
    "arr_slice=arr[5:8]"
   ]
  },
  {
   "cell_type": "code",
   "execution_count": 107,
   "metadata": {
    "id": "VleyQB3cIQTE"
   },
   "outputs": [
    {
     "data": {
      "text/plain": [
       "array([5, 6, 7])"
      ]
     },
     "execution_count": 107,
     "metadata": {},
     "output_type": "execute_result"
    }
   ],
   "source": [
    "arr_slice"
   ]
  },
  {
   "cell_type": "code",
   "execution_count": 108,
   "metadata": {
    "id": "FOcxNU7yIQTE"
   },
   "outputs": [],
   "source": [
    "arr_slice[1]=1000"
   ]
  },
  {
   "cell_type": "code",
   "execution_count": 109,
   "metadata": {
    "id": "Cu1T52WVIQTE"
   },
   "outputs": [
    {
     "data": {
      "text/plain": [
       "array([   5, 1000,    7])"
      ]
     },
     "execution_count": 109,
     "metadata": {},
     "output_type": "execute_result"
    }
   ],
   "source": [
    "arr_slice"
   ]
  },
  {
   "cell_type": "markdown",
   "metadata": {
    "id": "R8xGlP0BIQTE"
   },
   "source": [
    "let's check our original array"
   ]
  },
  {
   "cell_type": "code",
   "execution_count": 110,
   "metadata": {
    "id": "LMeOKlWLIQTE"
   },
   "outputs": [
    {
     "data": {
      "text/plain": [
       "array([   0,    1,    2,    3,    4,    5, 1000,    7,    8,    9])"
      ]
     },
     "execution_count": 110,
     "metadata": {},
     "output_type": "execute_result"
    }
   ],
   "source": [
    "arr"
   ]
  },
  {
   "cell_type": "markdown",
   "metadata": {
    "id": "qq_O-QAnIQTE"
   },
   "source": [
    "let's assign all the elements of arr_slice as 64"
   ]
  },
  {
   "cell_type": "code",
   "execution_count": 111,
   "metadata": {
    "id": "B7263v_tIQTF"
   },
   "outputs": [],
   "source": [
    "arr_slice[:]=64"
   ]
  },
  {
   "cell_type": "code",
   "execution_count": 112,
   "metadata": {
    "id": "QPQ1q3rRIQTF"
   },
   "outputs": [
    {
     "data": {
      "text/plain": [
       "array([64, 64, 64])"
      ]
     },
     "execution_count": 112,
     "metadata": {},
     "output_type": "execute_result"
    }
   ],
   "source": [
    "arr_slice"
   ]
  },
  {
   "cell_type": "code",
   "execution_count": 113,
   "metadata": {
    "id": "JxNHKZrjIQTG"
   },
   "outputs": [
    {
     "data": {
      "text/plain": [
       "array([ 0,  1,  2,  3,  4, 64, 64, 64,  8,  9])"
      ]
     },
     "execution_count": 113,
     "metadata": {},
     "output_type": "execute_result"
    }
   ],
   "source": [
    "arr"
   ]
  },
  {
   "cell_type": "markdown",
   "metadata": {
    "id": "wqnKDVj3IQTG"
   },
   "source": [
    "### This feature is quite useful for processing large data sets.\n",
    "When we work with large datasets, we can access and process pieces of these datasets\n",
    "without the need to copy the underlying data buffer. "
   ]
  },
  {
   "cell_type": "markdown",
   "metadata": {
    "id": "jwAQInA-IQTG"
   },
   "source": [
    "## Creating copies of arrays "
   ]
  },
  {
   "cell_type": "markdown",
   "metadata": {
    "id": "R02yd7n_IQTG"
   },
   "source": [
    "• Despite the nice features of array views, it is sometimes useful to instead explicitly copy the data within an array or a subarray.\n",
    "<br>• This can be most easily done with the copy() method:"
   ]
  },
  {
   "cell_type": "code",
   "execution_count": 114,
   "metadata": {
    "id": "KikBWFu4IQTG"
   },
   "outputs": [
    {
     "data": {
      "text/plain": [
       "array([[ 0,  1,  2,  3,  4],\n",
       "       [ 5,  6,  7,  8,  9],\n",
       "       [10, 11, 12, 13, 14],\n",
       "       [15, 16, 17, 18, 19]])"
      ]
     },
     "execution_count": 114,
     "metadata": {},
     "output_type": "execute_result"
    }
   ],
   "source": [
    "a=np.arange(20).reshape(4,5);a"
   ]
  },
  {
   "cell_type": "code",
   "execution_count": 115,
   "metadata": {
    "id": "_gmaocUiIQTG"
   },
   "outputs": [
    {
     "data": {
      "text/plain": [
       "array([[2, 3, 4],\n",
       "       [7, 8, 9]])"
      ]
     },
     "execution_count": 115,
     "metadata": {},
     "output_type": "execute_result"
    }
   ],
   "source": [
    "a_sub=a[:2,2:].copy();a_sub"
   ]
  },
  {
   "cell_type": "code",
   "execution_count": 116,
   "metadata": {
    "id": "km83oE8FIQTH"
   },
   "outputs": [
    {
     "data": {
      "text/plain": [
       "array([[100,   3,   4],\n",
       "       [  7,   8,   9]])"
      ]
     },
     "execution_count": 116,
     "metadata": {},
     "output_type": "execute_result"
    }
   ],
   "source": [
    "a_sub[0,0]=100;a_sub"
   ]
  },
  {
   "cell_type": "markdown",
   "metadata": {
    "id": "MUjfJ4nSIQTH"
   },
   "source": [
    "check the array a"
   ]
  },
  {
   "cell_type": "code",
   "execution_count": 117,
   "metadata": {
    "id": "CrFvLbE_IQTH"
   },
   "outputs": [
    {
     "data": {
      "text/plain": [
       "array([[ 0,  1,  2,  3,  4],\n",
       "       [ 5,  6,  7,  8,  9],\n",
       "       [10, 11, 12, 13, 14],\n",
       "       [15, 16, 17, 18, 19]])"
      ]
     },
     "execution_count": 117,
     "metadata": {},
     "output_type": "execute_result"
    }
   ],
   "source": [
    "a"
   ]
  },
  {
   "cell_type": "markdown",
   "metadata": {
    "id": "Zdujty2IIQTI"
   },
   "source": [
    "do the same without using copy function"
   ]
  },
  {
   "cell_type": "code",
   "execution_count": 118,
   "metadata": {
    "id": "NbDUwVCKIQTI"
   },
   "outputs": [
    {
     "data": {
      "text/plain": [
       "array([[2, 3, 4],\n",
       "       [7, 8, 9]])"
      ]
     },
     "execution_count": 118,
     "metadata": {},
     "output_type": "execute_result"
    }
   ],
   "source": [
    "a_sub=a[:2,2:];a_sub"
   ]
  },
  {
   "cell_type": "code",
   "execution_count": 119,
   "metadata": {
    "id": "gra0KS8yIQTI"
   },
   "outputs": [
    {
     "data": {
      "text/plain": [
       "array([[100,   3,   4],\n",
       "       [  7,   8,   9]])"
      ]
     },
     "execution_count": 119,
     "metadata": {},
     "output_type": "execute_result"
    }
   ],
   "source": [
    "a_sub[0,0]=100;a_sub"
   ]
  },
  {
   "cell_type": "code",
   "execution_count": 120,
   "metadata": {
    "id": "mGvGIubDIQTI"
   },
   "outputs": [
    {
     "data": {
      "text/plain": [
       "array([[  0,   1, 100,   3,   4],\n",
       "       [  5,   6,   7,   8,   9],\n",
       "       [ 10,  11,  12,  13,  14],\n",
       "       [ 15,  16,  17,  18,  19]])"
      ]
     },
     "execution_count": 120,
     "metadata": {},
     "output_type": "execute_result"
    }
   ],
   "source": [
    "a"
   ]
  },
  {
   "cell_type": "markdown",
   "metadata": {
    "id": "6qXTtkcAIQTI"
   },
   "source": [
    "# Comparisons, Masks and Boolean Logic"
   ]
  },
  {
   "cell_type": "markdown",
   "metadata": {
    "id": "svMgGeBpIQTJ"
   },
   "source": [
    "Boolean masks is useful when we want to extract, modify, count, or manipulate values in an array based on some criterion (comparison).\n",
    "<br> • First we will see comparison operators."
   ]
  },
  {
   "cell_type": "code",
   "execution_count": 206,
   "metadata": {
    "id": "sMoBv961IQTJ"
   },
   "outputs": [
    {
     "data": {
      "text/plain": [
       "array([0, 1, 2, 3, 4, 5])"
      ]
     },
     "execution_count": 206,
     "metadata": {},
     "output_type": "execute_result"
    }
   ],
   "source": [
    "x=np.arange(6);x"
   ]
  },
  {
   "cell_type": "code",
   "execution_count": 207,
   "metadata": {
    "id": "2UED1aOfIQTJ"
   },
   "outputs": [
    {
     "data": {
      "text/plain": [
       "array([ True,  True,  True, False, False, False])"
      ]
     },
     "execution_count": 207,
     "metadata": {},
     "output_type": "execute_result"
    }
   ],
   "source": [
    "x<3"
   ]
  },
  {
   "cell_type": "code",
   "execution_count": 208,
   "metadata": {
    "id": "ekvvljPrIQTJ"
   },
   "outputs": [],
   "source": [
    "result=x>=3"
   ]
  },
  {
   "cell_type": "code",
   "execution_count": 209,
   "metadata": {
    "id": "ExWYx4lXIQTJ"
   },
   "outputs": [
    {
     "data": {
      "text/plain": [
       "dtype('bool')"
      ]
     },
     "execution_count": 209,
     "metadata": {},
     "output_type": "execute_result"
    }
   ],
   "source": [
    "result.dtype"
   ]
  },
  {
   "cell_type": "code",
   "execution_count": 210,
   "metadata": {
    "id": "Q9WGY4wXIQTK"
   },
   "outputs": [
    {
     "data": {
      "text/plain": [
       "array([[ 0,  1,  2,  3,  4],\n",
       "       [ 5,  6,  7,  8,  9],\n",
       "       [10, 11, 12, 13, 14],\n",
       "       [15, 16, 17, 18, 19]])"
      ]
     },
     "execution_count": 210,
     "metadata": {},
     "output_type": "execute_result"
    }
   ],
   "source": [
    "y=np.arange(20).reshape(4,5);y"
   ]
  },
  {
   "cell_type": "code",
   "execution_count": 211,
   "metadata": {
    "id": "Y4F1K-8uIQTK"
   },
   "outputs": [
    {
     "data": {
      "text/plain": [
       "array([[False, False, False, False, False],\n",
       "       [False,  True,  True,  True,  True],\n",
       "       [ True,  True,  True,  True,  True],\n",
       "       [ True,  True,  True,  True,  True]])"
      ]
     },
     "execution_count": 211,
     "metadata": {},
     "output_type": "execute_result"
    }
   ],
   "source": [
    "y>5"
   ]
  },
  {
   "cell_type": "markdown",
   "metadata": {
    "id": "rjucKekdIQTK"
   },
   "source": [
    "## Using arrays as masks to select particular subsets of the data.\n",
    "• Similar operations will be in PANDAS as well. "
   ]
  },
  {
   "cell_type": "code",
   "execution_count": 212,
   "metadata": {
    "id": "1jdgslAAIQTL"
   },
   "outputs": [
    {
     "data": {
      "text/plain": [
       "array([ 6,  7,  8,  9, 10, 11, 12, 13, 14, 15, 16, 17, 18, 19])"
      ]
     },
     "execution_count": 212,
     "metadata": {},
     "output_type": "execute_result"
    }
   ],
   "source": [
    "y[y>5]"
   ]
  },
  {
   "cell_type": "markdown",
   "metadata": {
    "id": "IhYud52PIQTM"
   },
   "source": [
    "### y[y>5] gets all the values in positions at which the mask array is True "
   ]
  },
  {
   "cell_type": "markdown",
   "metadata": {
    "id": "Qb2ajz5iIQTM"
   },
   "source": [
    "### Sum is often used as a means of counting True values in a boolean array:"
   ]
  },
  {
   "cell_type": "code",
   "execution_count": 213,
   "metadata": {
    "id": "OaJlsH4TIQTM"
   },
   "outputs": [],
   "source": [
    "x=np.arange(20)"
   ]
  },
  {
   "cell_type": "code",
   "execution_count": 214,
   "metadata": {
    "id": "0rtG7zbaIQTM"
   },
   "outputs": [
    {
     "data": {
      "text/plain": [
       "5"
      ]
     },
     "execution_count": 214,
     "metadata": {},
     "output_type": "execute_result"
    }
   ],
   "source": [
    "(x<5).sum()"
   ]
  },
  {
   "cell_type": "code",
   "execution_count": 135,
   "metadata": {
    "id": "izGMec3FIQTM"
   },
   "outputs": [
    {
     "data": {
      "text/plain": [
       "array([ True,  True,  True,  True,  True, False, False, False, False,\n",
       "       False, False, False, False, False, False, False, False, False,\n",
       "       False, False])"
      ]
     },
     "execution_count": 135,
     "metadata": {},
     "output_type": "execute_result"
    }
   ],
   "source": [
    "x<5"
   ]
  },
  {
   "cell_type": "markdown",
   "metadata": {
    "id": "jqCjcxIXIQTN"
   },
   "source": [
    "## We can apply function on the data selected by boolean arrays."
   ]
  },
  {
   "cell_type": "code",
   "execution_count": 129,
   "metadata": {
    "id": "EXRGEJIaIQTN"
   },
   "outputs": [
    {
     "data": {
      "text/plain": [
       "4"
      ]
     },
     "execution_count": 129,
     "metadata": {},
     "output_type": "execute_result"
    }
   ],
   "source": [
    "np.sum(x<5)"
   ]
  },
  {
   "cell_type": "code",
   "execution_count": 128,
   "metadata": {
    "id": "GtwVltSCIQTN"
   },
   "outputs": [
    {
     "data": {
      "text/plain": [
       "10"
      ]
     },
     "execution_count": 128,
     "metadata": {},
     "output_type": "execute_result"
    }
   ],
   "source": [
    "np.sum(x[x<5])"
   ]
  },
  {
   "cell_type": "code",
   "execution_count": 130,
   "metadata": {
    "id": "Ew_na4ppIQTN"
   },
   "outputs": [
    {
     "data": {
      "text/plain": [
       "array([1, 2, 3, 4])"
      ]
     },
     "execution_count": 130,
     "metadata": {},
     "output_type": "execute_result"
    }
   ],
   "source": [
    "x[x<5]"
   ]
  },
  {
   "cell_type": "code",
   "execution_count": 215,
   "metadata": {},
   "outputs": [
    {
     "data": {
      "text/plain": [
       "array([[ 9, 15, 64, 28, 89],\n",
       "       [93, 29,  8, 73,  0],\n",
       "       [40, 36, 16, 11, 54],\n",
       "       [88, 62, 33, 72, 78],\n",
       "       [49, 51, 54, 77, 69]])"
      ]
     },
     "execution_count": 215,
     "metadata": {},
     "output_type": "execute_result"
    }
   ],
   "source": [
    "np.random.seed(10)\n",
    "a=np.random.randint(0,100,(5,5));a"
   ]
  },
  {
   "cell_type": "code",
   "execution_count": 216,
   "metadata": {},
   "outputs": [
    {
     "data": {
      "text/plain": [
       "13"
      ]
     },
     "execution_count": 216,
     "metadata": {},
     "output_type": "execute_result"
    }
   ],
   "source": [
    "np.sum(a>50)"
   ]
  },
  {
   "cell_type": "code",
   "execution_count": 217,
   "metadata": {},
   "outputs": [
    {
     "data": {
      "text/plain": [
       "924"
      ]
     },
     "execution_count": 217,
     "metadata": {},
     "output_type": "execute_result"
    }
   ],
   "source": [
    "np.sum(a[a>50])"
   ]
  },
  {
   "cell_type": "code",
   "execution_count": null,
   "metadata": {},
   "outputs": [
    {
     "data": {
      "text/plain": [
       "array([[False, False,  True, False,  True],\n",
       "       [ True, False, False,  True, False],\n",
       "       [False, False, False, False,  True],\n",
       "       [ True,  True, False,  True,  True],\n",
       "       [False,  True,  True,  True,  True]])"
      ]
     },
     "execution_count": 127,
     "metadata": {},
     "output_type": "execute_result"
    }
   ],
   "source": [
    "a > 50"
   ]
  },
  {
   "cell_type": "code",
   "execution_count": 147,
   "metadata": {},
   "outputs": [
    {
     "data": {
      "text/plain": [
       "924"
      ]
     },
     "execution_count": 147,
     "metadata": {},
     "output_type": "execute_result"
    }
   ],
   "source": [
    "a[a>50].sum()"
   ]
  },
  {
   "cell_type": "code",
   "execution_count": null,
   "metadata": {},
   "outputs": [],
   "source": []
  },
  {
   "cell_type": "markdown",
   "metadata": {
    "id": "8YsId4lhIQTN"
   },
   "source": [
    "## Boolean operators can compute the Truthness (True or False) by element-wise"
   ]
  },
  {
   "cell_type": "code",
   "execution_count": 136,
   "metadata": {
    "id": "UzApg41HIQTN"
   },
   "outputs": [
    {
     "data": {
      "text/plain": [
       "array([0, 1, 2, 3, 4, 5])"
      ]
     },
     "execution_count": 136,
     "metadata": {},
     "output_type": "execute_result"
    }
   ],
   "source": [
    "x=np.arange(6);x"
   ]
  },
  {
   "cell_type": "code",
   "execution_count": 137,
   "metadata": {
    "id": "QKXVjU-WIQTO"
   },
   "outputs": [
    {
     "data": {
      "text/plain": [
       "array([False, False,  True,  True,  True,  True])"
      ]
     },
     "execution_count": 137,
     "metadata": {},
     "output_type": "execute_result"
    }
   ],
   "source": [
    "x>1"
   ]
  },
  {
   "cell_type": "code",
   "execution_count": 138,
   "metadata": {
    "id": "070vm-cfIQTO"
   },
   "outputs": [
    {
     "data": {
      "text/plain": [
       "array([ True,  True,  True,  True, False, False])"
      ]
     },
     "execution_count": 138,
     "metadata": {},
     "output_type": "execute_result"
    }
   ],
   "source": [
    "x<4"
   ]
  },
  {
   "cell_type": "code",
   "execution_count": 139,
   "metadata": {
    "id": "tTmQf-HoIQTO"
   },
   "outputs": [
    {
     "data": {
      "text/plain": [
       "array([False, False,  True,  True, False, False])"
      ]
     },
     "execution_count": 139,
     "metadata": {},
     "output_type": "execute_result"
    }
   ],
   "source": [
    "(x>1) & (x<4)"
   ]
  },
  {
   "cell_type": "code",
   "execution_count": 140,
   "metadata": {
    "id": "IGt3YHcqIQTO"
   },
   "outputs": [
    {
     "ename": "ValueError",
     "evalue": "The truth value of an array with more than one element is ambiguous. Use a.any() or a.all()",
     "output_type": "error",
     "traceback": [
      "\u001b[0;31m---------------------------------------------------------------------------\u001b[0m",
      "\u001b[0;31mValueError\u001b[0m                                Traceback (most recent call last)",
      "\u001b[0;32m/var/folders/nn/py__5s8n69jgy5v1njqmdq500000gn/T/ipykernel_6743/3062846107.py\u001b[0m in \u001b[0;36m<module>\u001b[0;34m\u001b[0m\n\u001b[0;32m----> 1\u001b[0;31m \u001b[0mx\u001b[0m\u001b[0;34m>\u001b[0m\u001b[0;36m1\u001b[0m \u001b[0;34m&\u001b[0m \u001b[0mx\u001b[0m\u001b[0;34m<\u001b[0m\u001b[0;36m4\u001b[0m\u001b[0;34m\u001b[0m\u001b[0;34m\u001b[0m\u001b[0m\n\u001b[0m",
      "\u001b[0;31mValueError\u001b[0m: The truth value of an array with more than one element is ambiguous. Use a.any() or a.all()"
     ]
    }
   ],
   "source": [
    "x>1 & x<4"
   ]
  },
  {
   "cell_type": "markdown",
   "metadata": {
    "id": "3vvLIBzNIQTO"
   },
   "source": [
    "### When we remove paranthese, ”&” operator takes priority and the calculation  becomes x> (1&x)<4"
   ]
  },
  {
   "cell_type": "markdown",
   "metadata": {
    "id": "CCjzanzGIQTP"
   },
   "source": [
    "## Using the Keywords and/or Versus the Operators &/|"
   ]
  },
  {
   "cell_type": "markdown",
   "metadata": {
    "id": "wGPnLVp_IQTP"
   },
   "source": [
    "• It is often confused to use ”and” and ”or” instead of ”&” and ”|”\n",
    "<br>• The difference is this: and and or give the truth or falsehood of entire object, while & and | refer to bits within each object.\n",
    "<br>• When you use and or or, it's equivalent to asking Python to treat the object as a single Boolean entity."
   ]
  },
  {
   "cell_type": "code",
   "execution_count": 141,
   "metadata": {
    "id": "X48AX_fiIQTP"
   },
   "outputs": [
    {
     "data": {
      "text/plain": [
       "array([0, 1, 2, 3, 4, 5, 6, 7, 8, 9])"
      ]
     },
     "execution_count": 141,
     "metadata": {},
     "output_type": "execute_result"
    }
   ],
   "source": [
    "x=np.arange(10);x"
   ]
  },
  {
   "cell_type": "code",
   "execution_count": 142,
   "metadata": {
    "id": "6muV1Z8_IQTP"
   },
   "outputs": [
    {
     "data": {
      "text/plain": [
       "array([False, False, False, False, False,  True,  True,  True, False,\n",
       "       False])"
      ]
     },
     "execution_count": 142,
     "metadata": {},
     "output_type": "execute_result"
    }
   ],
   "source": [
    "(x>4) & (x<8)"
   ]
  },
  {
   "cell_type": "code",
   "execution_count": 143,
   "metadata": {
    "id": "bG_4n-MEIQTP",
    "scrolled": true
   },
   "outputs": [
    {
     "ename": "ValueError",
     "evalue": "The truth value of an array with more than one element is ambiguous. Use a.any() or a.all()",
     "output_type": "error",
     "traceback": [
      "\u001b[0;31m---------------------------------------------------------------------------\u001b[0m",
      "\u001b[0;31mValueError\u001b[0m                                Traceback (most recent call last)",
      "\u001b[0;32m/var/folders/nn/py__5s8n69jgy5v1njqmdq500000gn/T/ipykernel_6743/2781300766.py\u001b[0m in \u001b[0;36m<module>\u001b[0;34m\u001b[0m\n\u001b[0;32m----> 1\u001b[0;31m \u001b[0;34m(\u001b[0m\u001b[0mx\u001b[0m\u001b[0;34m>\u001b[0m\u001b[0;36m4\u001b[0m\u001b[0;34m)\u001b[0m \u001b[0;32mand\u001b[0m \u001b[0;34m(\u001b[0m\u001b[0mx\u001b[0m\u001b[0;34m<\u001b[0m\u001b[0;36m8\u001b[0m\u001b[0;34m)\u001b[0m\u001b[0;34m\u001b[0m\u001b[0;34m\u001b[0m\u001b[0m\n\u001b[0m",
      "\u001b[0;31mValueError\u001b[0m: The truth value of an array with more than one element is ambiguous. Use a.any() or a.all()"
     ]
    }
   ],
   "source": [
    "(x>4) and (x<8)"
   ]
  },
  {
   "cell_type": "code",
   "execution_count": 144,
   "metadata": {},
   "outputs": [
    {
     "data": {
      "text/plain": [
       "array([[ 9, 15, 64, 28, 89],\n",
       "       [93, 29,  8, 73,  0],\n",
       "       [40, 36, 16, 11, 54],\n",
       "       [88, 62, 33, 72, 78],\n",
       "       [49, 51, 54, 77, 69]])"
      ]
     },
     "execution_count": 144,
     "metadata": {},
     "output_type": "execute_result"
    }
   ],
   "source": [
    "a"
   ]
  },
  {
   "cell_type": "code",
   "execution_count": null,
   "metadata": {},
   "outputs": [
    {
     "ename": "ValueError",
     "evalue": "The truth value of an array with more than one element is ambiguous. Use a.any() or a.all()",
     "output_type": "error",
     "traceback": [
      "\u001b[0;31m---------------------------------------------------------------------------\u001b[0m",
      "\u001b[0;31mValueError\u001b[0m                                Traceback (most recent call last)",
      "\u001b[0;32m/var/folders/nn/py__5s8n69jgy5v1njqmdq500000gn/T/ipykernel_3420/1013108934.py\u001b[0m in \u001b[0;36m<module>\u001b[0;34m\u001b[0m\n\u001b[0;32m----> 1\u001b[0;31m \u001b[0mnp\u001b[0m\u001b[0;34m.\u001b[0m\u001b[0msum\u001b[0m\u001b[0;34m(\u001b[0m\u001b[0;34m(\u001b[0m\u001b[0ma\u001b[0m\u001b[0;34m>\u001b[0m\u001b[0;36m50\u001b[0m\u001b[0;34m)\u001b[0m \u001b[0;32mand\u001b[0m \u001b[0;34m(\u001b[0m\u001b[0ma\u001b[0m\u001b[0;34m<\u001b[0m\u001b[0;36m70\u001b[0m\u001b[0;34m)\u001b[0m\u001b[0;34m)\u001b[0m\u001b[0;34m\u001b[0m\u001b[0;34m\u001b[0m\u001b[0m\n\u001b[0m",
      "\u001b[0;31mValueError\u001b[0m: The truth value of an array with more than one element is ambiguous. Use a.any() or a.all()"
     ]
    }
   ],
   "source": [
    "np.sum((a>50) & (a<70))"
   ]
  },
  {
   "cell_type": "markdown",
   "metadata": {
    "id": "Ic1tnnDHIQTQ"
   },
   "source": [
    " **and** and **or** return the truth or falsehood of entire object, while **&** and **|** refer to bits within each object"
   ]
  },
  {
   "cell_type": "markdown",
   "metadata": {
    "id": "OVZXIVjuIQTQ"
   },
   "source": [
    "## Fancy indexing "
   ]
  },
  {
   "cell_type": "markdown",
   "metadata": {
    "id": "JZ3vr0O1IQTQ"
   },
   "source": [
    "To select out a subset of the rows in a particular order, you can simply pass a list or ndarray of integers specifying the desired order"
   ]
  },
  {
   "cell_type": "code",
   "execution_count": 220,
   "metadata": {
    "id": "CQ7HT2MEIQTQ"
   },
   "outputs": [
    {
     "data": {
      "text/plain": [
       "array([[1., 1., 1., 1.],\n",
       "       [1., 1., 1., 1.],\n",
       "       [1., 1., 1., 1.],\n",
       "       [1., 1., 1., 1.],\n",
       "       [1., 1., 1., 1.],\n",
       "       [1., 1., 1., 1.],\n",
       "       [1., 1., 1., 1.],\n",
       "       [1., 1., 1., 1.]])"
      ]
     },
     "execution_count": 220,
     "metadata": {},
     "output_type": "execute_result"
    }
   ],
   "source": [
    "x=np.ones((8,4));x"
   ]
  },
  {
   "cell_type": "code",
   "execution_count": 221,
   "metadata": {
    "id": "IumjdBadIQTQ"
   },
   "outputs": [
    {
     "data": {
      "text/plain": [
       "array([[1],\n",
       "       [2],\n",
       "       [3],\n",
       "       [4],\n",
       "       [5],\n",
       "       [6],\n",
       "       [7],\n",
       "       [8]])"
      ]
     },
     "execution_count": 221,
     "metadata": {},
     "output_type": "execute_result"
    }
   ],
   "source": [
    "y=np.arange(1,9).reshape(-1,1);y"
   ]
  },
  {
   "cell_type": "code",
   "execution_count": 222,
   "metadata": {
    "id": "6vx34I76IQTa"
   },
   "outputs": [
    {
     "data": {
      "text/plain": [
       "array([[1., 1., 1., 1.],\n",
       "       [2., 2., 2., 2.],\n",
       "       [3., 3., 3., 3.],\n",
       "       [4., 4., 4., 4.],\n",
       "       [5., 5., 5., 5.],\n",
       "       [6., 6., 6., 6.],\n",
       "       [7., 7., 7., 7.],\n",
       "       [8., 8., 8., 8.]])"
      ]
     },
     "execution_count": 222,
     "metadata": {},
     "output_type": "execute_result"
    }
   ],
   "source": [
    "z=x*y;z"
   ]
  },
  {
   "cell_type": "code",
   "execution_count": 223,
   "metadata": {
    "id": "6ZdSYE_OIQTa"
   },
   "outputs": [
    {
     "data": {
      "text/plain": [
       "array([[5., 5., 5., 5.],\n",
       "       [4., 4., 4., 4.],\n",
       "       [1., 1., 1., 1.]])"
      ]
     },
     "execution_count": 223,
     "metadata": {},
     "output_type": "execute_result"
    }
   ],
   "source": [
    "z[[4,3,0]]"
   ]
  },
  {
   "cell_type": "markdown",
   "metadata": {
    "id": "AsNX5DycIQTb"
   },
   "source": [
    "try to get columns as well"
   ]
  },
  {
   "cell_type": "code",
   "execution_count": 224,
   "metadata": {
    "id": "ktqfy4neIQTb"
   },
   "outputs": [
    {
     "data": {
      "text/plain": [
       "array([5., 4., 1.])"
      ]
     },
     "execution_count": 224,
     "metadata": {},
     "output_type": "execute_result"
    }
   ],
   "source": [
    "z[[4,3,0],[1,2,3]]"
   ]
  },
  {
   "cell_type": "markdown",
   "metadata": {
    "id": "zFh2zxxnIQTc"
   },
   "source": [
    "note that with these we got intersections, not a sub matrix"
   ]
  },
  {
   "cell_type": "markdown",
   "metadata": {
    "id": "W26tQORaIQTc"
   },
   "source": [
    "### we can get a list of rows and columns using np.ix_ function "
   ]
  },
  {
   "cell_type": "code",
   "execution_count": 225,
   "metadata": {
    "id": "nRyh1iUPIQTc"
   },
   "outputs": [
    {
     "data": {
      "text/plain": [
       "array([[5., 5., 5.],\n",
       "       [4., 4., 4.],\n",
       "       [1., 1., 1.]])"
      ]
     },
     "execution_count": 225,
     "metadata": {},
     "output_type": "execute_result"
    }
   ],
   "source": [
    "z[np.ix_([4,3,0],[1,2,3])]"
   ]
  },
  {
   "cell_type": "markdown",
   "metadata": {
    "id": "TKYoV2awIQTc"
   },
   "source": [
    "### More indexing with take and put"
   ]
  },
  {
   "cell_type": "markdown",
   "metadata": {
    "id": "Q-f8RnCCIQTc"
   },
   "source": [
    "We can select values at given axis"
   ]
  },
  {
   "cell_type": "code",
   "execution_count": 226,
   "metadata": {
    "id": "GNS23NIEIQTc"
   },
   "outputs": [
    {
     "data": {
      "text/plain": [
       "array([  0, 100, 200, 300, 400, 500, 600, 700, 800, 900])"
      ]
     },
     "execution_count": 226,
     "metadata": {},
     "output_type": "execute_result"
    }
   ],
   "source": [
    "arr = np.arange(10) * 100;arr"
   ]
  },
  {
   "cell_type": "code",
   "execution_count": 227,
   "metadata": {
    "id": "D0Kn6HBEIQTd"
   },
   "outputs": [],
   "source": [
    "inds=[7,1,2,6]"
   ]
  },
  {
   "cell_type": "code",
   "execution_count": 228,
   "metadata": {
    "id": "A0fUmOpYIQTd",
    "scrolled": true
   },
   "outputs": [
    {
     "data": {
      "text/plain": [
       "array([700, 100, 200, 600])"
      ]
     },
     "execution_count": 228,
     "metadata": {},
     "output_type": "execute_result"
    }
   ],
   "source": [
    "arr[inds]"
   ]
  },
  {
   "cell_type": "code",
   "execution_count": 154,
   "metadata": {
    "id": "FKP2SAm1IQTd"
   },
   "outputs": [
    {
     "data": {
      "text/plain": [
       "array([700, 100, 200, 600])"
      ]
     },
     "execution_count": 154,
     "metadata": {},
     "output_type": "execute_result"
    }
   ],
   "source": [
    "arr.take(inds)"
   ]
  },
  {
   "cell_type": "code",
   "execution_count": 229,
   "metadata": {
    "id": "tBqrzAZVIQTd"
   },
   "outputs": [],
   "source": [
    "arr.put(inds, 42)"
   ]
  },
  {
   "cell_type": "code",
   "execution_count": 230,
   "metadata": {
    "id": "b_aUu1H-IQTd"
   },
   "outputs": [
    {
     "data": {
      "text/plain": [
       "array([  0,  42,  42, 300, 400, 500,  42,  42, 800, 900])"
      ]
     },
     "execution_count": 230,
     "metadata": {},
     "output_type": "execute_result"
    }
   ],
   "source": [
    "arr"
   ]
  },
  {
   "cell_type": "markdown",
   "metadata": {
    "id": "QVBFDZDYIQTd"
   },
   "source": [
    "Let's see how this works on arrays having higher dimensions"
   ]
  },
  {
   "cell_type": "code",
   "execution_count": 231,
   "metadata": {
    "id": "-4Bx5H49IQTe",
    "scrolled": true
   },
   "outputs": [
    {
     "data": {
      "text/plain": [
       "array([[1., 1., 1., 1.],\n",
       "       [2., 2., 2., 2.],\n",
       "       [3., 3., 3., 3.],\n",
       "       [4., 4., 4., 4.],\n",
       "       [5., 5., 5., 5.],\n",
       "       [6., 6., 6., 6.],\n",
       "       [7., 7., 7., 7.],\n",
       "       [8., 8., 8., 8.]])"
      ]
     },
     "execution_count": 231,
     "metadata": {},
     "output_type": "execute_result"
    }
   ],
   "source": [
    "z"
   ]
  },
  {
   "cell_type": "code",
   "execution_count": 232,
   "metadata": {
    "id": "lyw6FxM-IQTe"
   },
   "outputs": [
    {
     "data": {
      "text/plain": [
       "array([[1., 1.],\n",
       "       [2., 2.],\n",
       "       [3., 3.],\n",
       "       [4., 4.],\n",
       "       [5., 5.],\n",
       "       [6., 6.],\n",
       "       [7., 7.],\n",
       "       [8., 8.]])"
      ]
     },
     "execution_count": 232,
     "metadata": {},
     "output_type": "execute_result"
    }
   ],
   "source": [
    "z.take([0,2],axis=1)"
   ]
  },
  {
   "cell_type": "markdown",
   "metadata": {
    "id": "F8uFavk2IQTe"
   },
   "source": [
    "## Universal Functions: Fast Element-wise Array Functions"
   ]
  },
  {
   "cell_type": "markdown",
   "metadata": {
    "id": "AvDPuXAwIQTe"
   },
   "source": [
    "A universal function, or ufunc, is a function that performs elementwise operations on data in ndarray"
   ]
  },
  {
   "cell_type": "code",
   "execution_count": 233,
   "metadata": {
    "id": "ot2bVRZ5IQTe"
   },
   "outputs": [
    {
     "data": {
      "text/plain": [
       "array([0, 1, 2, 3, 4, 5, 6, 7, 8, 9])"
      ]
     },
     "execution_count": 233,
     "metadata": {},
     "output_type": "execute_result"
    }
   ],
   "source": [
    "a=np.arange(10);a"
   ]
  },
  {
   "cell_type": "code",
   "execution_count": 234,
   "metadata": {
    "id": "8UyMyFF6IQTe"
   },
   "outputs": [
    {
     "data": {
      "text/plain": [
       "array([0.        , 1.        , 1.41421356, 1.73205081, 2.        ,\n",
       "       2.23606798, 2.44948974, 2.64575131, 2.82842712, 3.        ])"
      ]
     },
     "execution_count": 234,
     "metadata": {},
     "output_type": "execute_result"
    }
   ],
   "source": [
    "np.sqrt(a)"
   ]
  },
  {
   "cell_type": "code",
   "execution_count": 235,
   "metadata": {
    "id": "I3n5RJRoIQTe"
   },
   "outputs": [
    {
     "data": {
      "text/plain": [
       "array([1.00000000e+00, 2.71828183e+00, 7.38905610e+00, 2.00855369e+01,\n",
       "       5.45981500e+01, 1.48413159e+02, 4.03428793e+02, 1.09663316e+03,\n",
       "       2.98095799e+03, 8.10308393e+03])"
      ]
     },
     "execution_count": 235,
     "metadata": {},
     "output_type": "execute_result"
    }
   ],
   "source": [
    "np.exp(a)"
   ]
  },
  {
   "cell_type": "markdown",
   "metadata": {
    "id": "A8YoEgLrIQTf"
   },
   "source": [
    "<div>\n",
    "<img src=\"attachment:Screen%20Shot%202020-11-29%20at%2020.43.52.png\" width=\"600\"/>\n",
    "</div>"
   ]
  },
  {
   "cell_type": "code",
   "execution_count": 236,
   "metadata": {
    "id": "MXjJmUA6IQTf"
   },
   "outputs": [
    {
     "data": {
      "text/plain": [
       "array([False,  True])"
      ]
     },
     "execution_count": 236,
     "metadata": {},
     "output_type": "execute_result"
    }
   ],
   "source": [
    "arr=np.array([True,False])\n",
    "np.logical_not(arr)"
   ]
  },
  {
   "cell_type": "code",
   "execution_count": 237,
   "metadata": {
    "id": "uj24WqR-IQTf"
   },
   "outputs": [
    {
     "data": {
      "text/plain": [
       "array([False,  True])"
      ]
     },
     "execution_count": 237,
     "metadata": {},
     "output_type": "execute_result"
    }
   ],
   "source": [
    "~arr"
   ]
  },
  {
   "cell_type": "markdown",
   "metadata": {
    "id": "w5TMRuUqIQTf"
   },
   "source": [
    "## Expressing Conditional Logic as Array Operations"
   ]
  },
  {
   "cell_type": "markdown",
   "metadata": {
    "id": "HrDbkWNUIQTf"
   },
   "source": [
    "The numpy.where function is a vectorized version of the expression x if condition else y."
   ]
  },
  {
   "cell_type": "code",
   "execution_count": 238,
   "metadata": {
    "id": "Fvxs9AnyIQTg"
   },
   "outputs": [
    {
     "data": {
      "text/plain": [
       "array([[3, 9, 6, 9, 1],\n",
       "       [9, 4, 2, 6, 7],\n",
       "       [8, 8, 9, 2, 0],\n",
       "       [6, 7, 8, 1, 7],\n",
       "       [1, 4, 0, 8, 5]])"
      ]
     },
     "execution_count": 238,
     "metadata": {},
     "output_type": "execute_result"
    }
   ],
   "source": [
    "a=np.random.randint(0,10,(5,5));a"
   ]
  },
  {
   "cell_type": "code",
   "execution_count": 239,
   "metadata": {
    "id": "sCVU9upPIQTg"
   },
   "outputs": [
    {
     "data": {
      "text/plain": [
       "array([[2, 1, 1, 1, 2],\n",
       "       [1, 2, 2, 1, 1],\n",
       "       [1, 1, 1, 2, 2],\n",
       "       [1, 1, 1, 2, 1],\n",
       "       [2, 2, 2, 1, 2]])"
      ]
     },
     "execution_count": 239,
     "metadata": {},
     "output_type": "execute_result"
    }
   ],
   "source": [
    "np.where(a>5,1,2)"
   ]
  },
  {
   "cell_type": "markdown",
   "metadata": {
    "id": "VWf4rFrlIQTg"
   },
   "source": [
    "## If only condition is given, return the tuple condition.nonzero(), the indices where condition isTrue."
   ]
  },
  {
   "cell_type": "code",
   "execution_count": 240,
   "metadata": {
    "id": "dNHK0OUfIQTg"
   },
   "outputs": [
    {
     "data": {
      "text/plain": [
       "array([0, 1, 2, 3, 4, 5, 6, 7, 8, 9])"
      ]
     },
     "execution_count": 240,
     "metadata": {},
     "output_type": "execute_result"
    }
   ],
   "source": [
    "a=np.arange(10);a"
   ]
  },
  {
   "cell_type": "code",
   "execution_count": 241,
   "metadata": {
    "id": "S8wavO2tIQTg"
   },
   "outputs": [],
   "source": [
    "result=np.where(a>7)"
   ]
  },
  {
   "cell_type": "code",
   "execution_count": 242,
   "metadata": {
    "id": "4-zOOr8dIQTh"
   },
   "outputs": [
    {
     "data": {
      "text/plain": [
       "(array([8, 9]),)"
      ]
     },
     "execution_count": 242,
     "metadata": {},
     "output_type": "execute_result"
    }
   ],
   "source": [
    "result"
   ]
  },
  {
   "cell_type": "code",
   "execution_count": 243,
   "metadata": {
    "id": "EOQJTBEDIQTh"
   },
   "outputs": [
    {
     "data": {
      "text/plain": [
       "array([8, 9])"
      ]
     },
     "execution_count": 243,
     "metadata": {},
     "output_type": "execute_result"
    }
   ],
   "source": [
    "a[result]"
   ]
  },
  {
   "cell_type": "markdown",
   "metadata": {
    "id": "pz13ZrkTIQTi"
   },
   "source": [
    "### Let's do an exercise on an image data "
   ]
  },
  {
   "cell_type": "code",
   "execution_count": 244,
   "metadata": {
    "id": "lpBd4kHCIQTi"
   },
   "outputs": [],
   "source": [
    "import matplotlib.pyplot as plt"
   ]
  },
  {
   "cell_type": "code",
   "execution_count": 245,
   "metadata": {
    "colab": {
     "base_uri": "https://localhost:8080/",
     "height": 189
    },
    "executionInfo": {
     "elapsed": 892,
     "status": "error",
     "timestamp": 1644062948016,
     "user": {
      "displayName": "sefer baday",
      "photoUrl": "https://lh3.googleusercontent.com/a/default-user=s64",
      "userId": "05968790297977678638"
     },
     "user_tz": -180
    },
    "id": "rp7oeWT9IQTi",
    "outputId": "829a6df0-9019-4616-9caa-81e63ec5aabe"
   },
   "outputs": [],
   "source": [
    "raw_image=plt.imread(\"cat.1536.jpg\")\n",
    "image=raw_image.copy()"
   ]
  },
  {
   "cell_type": "code",
   "execution_count": 246,
   "metadata": {
    "id": "S0xEDOTbIQTi",
    "scrolled": true
   },
   "outputs": [
    {
     "data": {
      "text/plain": [
       "(374, 500, 3)"
      ]
     },
     "execution_count": 246,
     "metadata": {},
     "output_type": "execute_result"
    }
   ],
   "source": [
    "# get the shape of image array\n",
    "image.shape"
   ]
  },
  {
   "cell_type": "code",
   "execution_count": 160,
   "metadata": {
    "id": "m0yvy1gFIQTi"
   },
   "outputs": [
    {
     "data": {
      "text/plain": [
       "dtype('uint8')"
      ]
     },
     "execution_count": 160,
     "metadata": {},
     "output_type": "execute_result"
    }
   ],
   "source": [
    "# get the data type of this array\n",
    "image.dtype"
   ]
  },
  {
   "cell_type": "code",
   "execution_count": null,
   "metadata": {
    "id": "z_vTK4tEIQTi"
   },
   "outputs": [],
   "source": [
    "image"
   ]
  },
  {
   "cell_type": "code",
   "execution_count": 161,
   "metadata": {
    "id": "1yP6-i6nIQTi"
   },
   "outputs": [
    {
     "data": {
      "text/plain": [
       "561000"
      ]
     },
     "execution_count": 161,
     "metadata": {},
     "output_type": "execute_result"
    }
   ],
   "source": [
    "# get the umber of bytes that this array occupy\n",
    "image.nbytes"
   ]
  },
  {
   "cell_type": "code",
   "execution_count": null,
   "metadata": {
    "id": "UzbnIrDhIQTj"
   },
   "outputs": [],
   "source": [
    "image.shape"
   ]
  },
  {
   "cell_type": "code",
   "execution_count": null,
   "metadata": {
    "id": "jMC0fEMIIQTj"
   },
   "outputs": [],
   "source": [
    "374*500*3"
   ]
  },
  {
   "cell_type": "code",
   "execution_count": 162,
   "metadata": {
    "id": "MaDQv_H9IQTj",
    "scrolled": true
   },
   "outputs": [
    {
     "data": {
      "text/plain": [
       "<matplotlib.image.AxesImage at 0x7fe5eab20340>"
      ]
     },
     "execution_count": 162,
     "metadata": {},
     "output_type": "execute_result"
    },
    {
     "data": {
      "image/png": "[encoded data removed]",
      "text/plain": [
       "<Figure size 432x288 with 1 Axes>"
      ]
     },
     "metadata": {
      "needs_background": "light"
     },
     "output_type": "display_data"
    }
   ],
   "source": [
    "plt.imshow(image)"
   ]
  },
  {
   "cell_type": "code",
   "execution_count": 163,
   "metadata": {},
   "outputs": [
    {
     "data": {
      "text/plain": [
       "array([], shape=(100, 0, 3), dtype=uint8)"
      ]
     },
     "execution_count": 163,
     "metadata": {},
     "output_type": "execute_result"
    }
   ],
   "source": [
    "image[50:150, 250:150]"
   ]
  },
  {
   "cell_type": "code",
   "execution_count": 170,
   "metadata": {},
   "outputs": [
    {
     "data": {
      "image/png": "[encoded data removed]",
      "text/plain": [
       "<Figure size 432x288 with 1 Axes>"
      ]
     },
     "metadata": {
      "needs_background": "light"
     },
     "output_type": "display_data"
    }
   ],
   "source": [
    "plt.imshow(image[50:150,250:350])\n",
    "plt.imshow(image[35:150,240:365,:])\n",
    "plt.savefig(\"test.png\")"
   ]
  },
  {
   "cell_type": "code",
   "execution_count": 174,
   "metadata": {},
   "outputs": [
    {
     "ename": "IndexError",
     "evalue": "too many indices for array: array is 3-dimensional, but 4 were indexed",
     "output_type": "error",
     "traceback": [
      "\u001b[0;31m---------------------------------------------------------------------------\u001b[0m",
      "\u001b[0;31mIndexError\u001b[0m                                Traceback (most recent call last)",
      "\u001b[0;32m/var/folders/nn/py__5s8n69jgy5v1njqmdq500000gn/T/ipykernel_6743/2900016382.py\u001b[0m in \u001b[0;36m<module>\u001b[0;34m\u001b[0m\n\u001b[0;32m----> 1\u001b[0;31m \u001b[0mimage\u001b[0m\u001b[0;34m[\u001b[0m\u001b[0;36m100\u001b[0m\u001b[0;34m:\u001b[0m\u001b[0;36m150\u001b[0m\u001b[0;34m,\u001b[0m\u001b[0;36m0\u001b[0m\u001b[0;34m:\u001b[0m\u001b[0;36m100\u001b[0m\u001b[0;34m,\u001b[0m\u001b[0;36m0\u001b[0m\u001b[0;34m,\u001b[0m\u001b[0;36m2\u001b[0m\u001b[0;34m]\u001b[0m\u001b[0;34m=\u001b[0m\u001b[0;34m(\u001b[0m\u001b[0;36m0\u001b[0m\u001b[0;34m,\u001b[0m\u001b[0;36m255\u001b[0m\u001b[0;34m)\u001b[0m\u001b[0;34m\u001b[0m\u001b[0;34m\u001b[0m\u001b[0m\n\u001b[0m\u001b[1;32m      2\u001b[0m \u001b[0mplt\u001b[0m\u001b[0;34m.\u001b[0m\u001b[0mimshow\u001b[0m\u001b[0;34m(\u001b[0m\u001b[0mimage\u001b[0m\u001b[0;34m)\u001b[0m\u001b[0;34m\u001b[0m\u001b[0;34m\u001b[0m\u001b[0m\n",
      "\u001b[0;31mIndexError\u001b[0m: too many indices for array: array is 3-dimensional, but 4 were indexed"
     ]
    }
   ],
   "source": [
    "image[100:150,0:100,0,2]=(0,255)\n",
    "plt.imshow(image)"
   ]
  },
  {
   "cell_type": "markdown",
   "metadata": {
    "id": "GZwjXiHKIQTj"
   },
   "source": [
    "### set all red color to zero "
   ]
  },
  {
   "cell_type": "code",
   "execution_count": 178,
   "metadata": {
    "id": "rci1_FiRIQTj"
   },
   "outputs": [
    {
     "data": {
      "text/plain": [
       "<matplotlib.image.AxesImage at 0x7fe5edf844c0>"
      ]
     },
     "execution_count": 178,
     "metadata": {},
     "output_type": "execute_result"
    },
    {
     "data": {
      "image/png": "[encoded data removed]",
      "text/plain": [
       "<Figure size 432x288 with 1 Axes>"
      ]
     },
     "metadata": {
      "needs_background": "light"
     },
     "output_type": "display_data"
    }
   ],
   "source": [
    "# set all color to zero\n",
    "image[:,:,0] = 0\n",
    "plt.imshow(image)"
   ]
  },
  {
   "cell_type": "markdown",
   "metadata": {
    "id": "EvLj2I8zIQTj"
   },
   "source": [
    "Ellipsis ***...*** is helpful to slice several dimensions"
   ]
  },
  {
   "cell_type": "code",
   "execution_count": 179,
   "metadata": {
    "id": "V7VXJR0DIQTk"
   },
   "outputs": [
    {
     "data": {
      "text/plain": [
       "<matplotlib.image.AxesImage at 0x7fe5ee0fecd0>"
      ]
     },
     "execution_count": 179,
     "metadata": {},
     "output_type": "execute_result"
    },
    {
     "data": {
      "image/png": "[encoded data removed]",
      "text/plain": [
       "<Figure size 432x288 with 1 Axes>"
      ]
     },
     "metadata": {
      "needs_background": "light"
     },
     "output_type": "display_data"
    }
   ],
   "source": [
    "# do the same using ellipsis\n",
    "image[...,0] = 0\n",
    "plt.imshow(image)"
   ]
  },
  {
   "cell_type": "code",
   "execution_count": null,
   "metadata": {
    "id": "5HLKnAOFIQTk"
   },
   "outputs": [],
   "source": []
  },
  {
   "cell_type": "code",
   "execution_count": null,
   "metadata": {
    "id": "Aw22weFyIQTk"
   },
   "outputs": [],
   "source": [
    "# here assign zero for red and blue colors\n"
   ]
  },
  {
   "cell_type": "code",
   "execution_count": null,
   "metadata": {
    "id": "UyJ1cxGUIQTk"
   },
   "outputs": [],
   "source": [
    "plt.imshow(image)"
   ]
  },
  {
   "cell_type": "code",
   "execution_count": null,
   "metadata": {
    "id": "-ZjXSXNAIQTk"
   },
   "outputs": [],
   "source": [
    "image=raw_image.copy()"
   ]
  },
  {
   "cell_type": "markdown",
   "metadata": {
    "id": "HXRF7Gd1IQTl"
   },
   "source": [
    "### assign zero for red color for all pixes having red color intensities over 200"
   ]
  },
  {
   "cell_type": "code",
   "execution_count": null,
   "metadata": {
    "id": "R7vnTXPPIQTl"
   },
   "outputs": [],
   "source": [
    "# first using numpy.where find indices"
   ]
  },
  {
   "cell_type": "code",
   "execution_count": 181,
   "metadata": {},
   "outputs": [],
   "source": [
    "indices = np.where(image[...,0] > 200)"
   ]
  },
  {
   "cell_type": "code",
   "execution_count": null,
   "metadata": {
    "id": "SHELlqw1IQTl"
   },
   "outputs": [],
   "source": [
    "# assign zeros values for those indices "
   ]
  },
  {
   "cell_type": "code",
   "execution_count": 183,
   "metadata": {},
   "outputs": [
    {
     "data": {
      "text/plain": [
       "(0,)"
      ]
     },
     "execution_count": 183,
     "metadata": {},
     "output_type": "execute_result"
    }
   ],
   "source": [
    "indices[0].shape"
   ]
  },
  {
   "cell_type": "code",
   "execution_count": null,
   "metadata": {
    "id": "gha4tFP6IQTl",
    "scrolled": true
   },
   "outputs": [],
   "source": [
    "plt.imshow(image)"
   ]
  },
  {
   "cell_type": "markdown",
   "metadata": {
    "id": "Boq6GbGPIQTl"
   },
   "source": [
    "# Mathematical and Statistical Methods"
   ]
  },
  {
   "cell_type": "markdown",
   "metadata": {
    "id": "a-vLEKtOIQTl"
   },
   "source": [
    "A set of mathematical functions which compute statistics about an entire array or about the data along an axis are accessible as array methods."
   ]
  },
  {
   "cell_type": "code",
   "execution_count": 184,
   "metadata": {
    "id": "dgI4d76DIQTm"
   },
   "outputs": [
    {
     "data": {
      "text/plain": [
       "array([[1., 1., 1., 1.],\n",
       "       [1., 1., 1., 1.],\n",
       "       [1., 1., 1., 1.],\n",
       "       [1., 1., 1., 1.]])"
      ]
     },
     "execution_count": 184,
     "metadata": {},
     "output_type": "execute_result"
    }
   ],
   "source": [
    "x=np.ones((4,4));x"
   ]
  },
  {
   "cell_type": "markdown",
   "metadata": {
    "id": "yMYLMa0OIQTm"
   },
   "source": [
    "let's multiply second row with 2, third row with 3 and fourth row with 4"
   ]
  },
  {
   "cell_type": "code",
   "execution_count": 188,
   "metadata": {
    "id": "ZaU6vwvUIQTm"
   },
   "outputs": [],
   "source": [
    "y = np.array([1,2,3,4])"
   ]
  },
  {
   "cell_type": "code",
   "execution_count": 190,
   "metadata": {
    "id": "cXbM523xIQTm"
   },
   "outputs": [
    {
     "data": {
      "text/plain": [
       "array([[1., 1., 1., 1.],\n",
       "       [2., 2., 2., 2.],\n",
       "       [3., 3., 3., 3.],\n",
       "       [4., 4., 4., 4.]])"
      ]
     },
     "execution_count": 190,
     "metadata": {},
     "output_type": "execute_result"
    }
   ],
   "source": [
    "(x * y)"
   ]
  },
  {
   "cell_type": "code",
   "execution_count": 195,
   "metadata": {},
   "outputs": [],
   "source": []
  },
  {
   "cell_type": "markdown",
   "metadata": {
    "id": "FaTyITQsIQTm"
   },
   "source": [
    "type x.mean() see what happens"
   ]
  },
  {
   "cell_type": "code",
   "execution_count": 196,
   "metadata": {
    "id": "IHggtMOCIQTm"
   },
   "outputs": [
    {
     "data": {
      "text/plain": [
       "2.5"
      ]
     },
     "execution_count": 196,
     "metadata": {},
     "output_type": "execute_result"
    }
   ],
   "source": [
    "x.mean()"
   ]
  },
  {
   "cell_type": "code",
   "execution_count": 197,
   "metadata": {},
   "outputs": [
    {
     "data": {
      "text/plain": [
       "array([1., 2., 3., 4.])"
      ]
     },
     "execution_count": 197,
     "metadata": {},
     "output_type": "execute_result"
    }
   ],
   "source": [
    "x.mean(axis = 1)"
   ]
  },
  {
   "cell_type": "code",
   "execution_count": 198,
   "metadata": {
    "id": "oe5mza7SIQTn"
   },
   "outputs": [
    {
     "data": {
      "text/plain": [
       "array([2.5, 2.5, 2.5, 2.5])"
      ]
     },
     "execution_count": 198,
     "metadata": {},
     "output_type": "execute_result"
    }
   ],
   "source": [
    "x.mean(axis = 0)"
   ]
  },
  {
   "cell_type": "markdown",
   "metadata": {
    "id": "dd8ZwIfFIQTn"
   },
   "source": [
    "x.sum() works similary, try x.sum(axis=0) x.sum(axis=1)"
   ]
  },
  {
   "cell_type": "code",
   "execution_count": 199,
   "metadata": {
    "id": "C1efryiuIQTn"
   },
   "outputs": [
    {
     "data": {
      "text/plain": [
       "40.0"
      ]
     },
     "execution_count": 199,
     "metadata": {},
     "output_type": "execute_result"
    }
   ],
   "source": [
    "x.sum()"
   ]
  },
  {
   "cell_type": "code",
   "execution_count": 200,
   "metadata": {
    "id": "8hZB_8utIQTn"
   },
   "outputs": [
    {
     "data": {
      "text/plain": [
       "array([[[ 0,  1],\n",
       "        [ 2,  3],\n",
       "        [ 4,  5]],\n",
       "\n",
       "       [[ 6,  7],\n",
       "        [ 8,  9],\n",
       "        [10, 11]],\n",
       "\n",
       "       [[12, 13],\n",
       "        [14, 15],\n",
       "        [16, 17]],\n",
       "\n",
       "       [[18, 19],\n",
       "        [20, 21],\n",
       "        [22, 23]]])"
      ]
     },
     "execution_count": 200,
     "metadata": {},
     "output_type": "execute_result"
    }
   ],
   "source": [
    "a = np.arange(24).reshape(4,3,2);a"
   ]
  },
  {
   "cell_type": "code",
   "execution_count": 203,
   "metadata": {},
   "outputs": [
    {
     "data": {
      "text/plain": [
       "array([[36, 40],\n",
       "       [44, 48],\n",
       "       [52, 56]])"
      ]
     },
     "execution_count": 203,
     "metadata": {},
     "output_type": "execute_result"
    }
   ],
   "source": [
    "a.sum(axis = 0)"
   ]
  },
  {
   "cell_type": "code",
   "execution_count": 204,
   "metadata": {},
   "outputs": [
    {
     "data": {
      "text/plain": [
       "array([[ 6,  9],\n",
       "       [24, 27],\n",
       "       [42, 45],\n",
       "       [60, 63]])"
      ]
     },
     "execution_count": 204,
     "metadata": {},
     "output_type": "execute_result"
    }
   ],
   "source": [
    "a.sum(axis = 1)"
   ]
  },
  {
   "cell_type": "markdown",
   "metadata": {
    "id": "GEw6zElJIQTn"
   },
   "source": [
    "<div>\n",
    "<img src=\"attachment:Screen%20Shot%202020-11-29%20at%2020.50.44.png\" width=\"800\"/>\n",
    "</div>"
   ]
  },
  {
   "cell_type": "markdown",
   "metadata": {
    "id": "4ayjFp4pIQTn"
   },
   "source": [
    "# Dealing with NA values (missing data)"
   ]
  },
  {
   "cell_type": "markdown",
   "metadata": {
    "id": "-TEmmCcWIQTn"
   },
   "source": [
    "Np.nan is a floating point number"
   ]
  },
  {
   "cell_type": "code",
   "execution_count": 205,
   "metadata": {
    "id": "8aMMqx_8IQTo"
   },
   "outputs": [
    {
     "data": {
      "text/plain": [
       "array([[ 0,  1,  2,  3,  4],\n",
       "       [ 5,  6,  7,  8,  9],\n",
       "       [10, 11, 12, 13, 14],\n",
       "       [15, 16, 17, 18, 19]])"
      ]
     },
     "execution_count": 205,
     "metadata": {},
     "output_type": "execute_result"
    }
   ],
   "source": [
    "a=np.arange(20).reshape(4,5);a"
   ]
  },
  {
   "cell_type": "code",
   "execution_count": 209,
   "metadata": {
    "id": "dJfEsNOoIQTo"
   },
   "outputs": [
    {
     "ename": "ValueError",
     "evalue": "cannot convert float NaN to integer",
     "output_type": "error",
     "traceback": [
      "\u001b[0;31m---------------------------------------------------------------------------\u001b[0m",
      "\u001b[0;31mValueError\u001b[0m                                Traceback (most recent call last)",
      "\u001b[0;32m/var/folders/nn/py__5s8n69jgy5v1njqmdq500000gn/T/ipykernel_6743/1012321638.py\u001b[0m in \u001b[0;36m<module>\u001b[0;34m\u001b[0m\n\u001b[0;32m----> 1\u001b[0;31m \u001b[0ma\u001b[0m\u001b[0;34m[\u001b[0m\u001b[0;36m0\u001b[0m\u001b[0;34m,\u001b[0m\u001b[0;36m0\u001b[0m\u001b[0;34m]\u001b[0m\u001b[0;34m=\u001b[0m\u001b[0mnp\u001b[0m\u001b[0;34m.\u001b[0m\u001b[0mnan\u001b[0m\u001b[0;34m\u001b[0m\u001b[0;34m\u001b[0m\u001b[0m\n\u001b[0m",
      "\u001b[0;31mValueError\u001b[0m: cannot convert float NaN to integer"
     ]
    }
   ],
   "source": [
    "a[0,0]=np.nan"
   ]
  },
  {
   "cell_type": "code",
   "execution_count": 207,
   "metadata": {
    "id": "Rxf4z3EIIQTo"
   },
   "outputs": [
    {
     "data": {
      "text/plain": [
       "dtype('int64')"
      ]
     },
     "execution_count": 207,
     "metadata": {},
     "output_type": "execute_result"
    }
   ],
   "source": [
    "a.dtype"
   ]
  },
  {
   "cell_type": "code",
   "execution_count": 210,
   "metadata": {
    "id": "J7XcChUiIQTo"
   },
   "outputs": [],
   "source": [
    "a=a.astype(float)"
   ]
  },
  {
   "cell_type": "code",
   "execution_count": 211,
   "metadata": {
    "id": "IOgfV-j0IQTo"
   },
   "outputs": [
    {
     "data": {
      "text/plain": [
       "array([[nan,  1.,  2.,  3.,  4.],\n",
       "       [ 5.,  6.,  7.,  8.,  9.],\n",
       "       [10., 11., 12., 13., 14.],\n",
       "       [15., 16., 17., 18., 19.]])"
      ]
     },
     "execution_count": 211,
     "metadata": {},
     "output_type": "execute_result"
    }
   ],
   "source": [
    "a[0,0]=np.nan;a"
   ]
  },
  {
   "cell_type": "markdown",
   "metadata": {
    "id": "z7LfodOqIQTo"
   },
   "source": [
    "# NaN-safe methods"
   ]
  },
  {
   "cell_type": "code",
   "execution_count": 212,
   "metadata": {
    "id": "YMBhbunpIQTp"
   },
   "outputs": [
    {
     "data": {
      "text/plain": [
       "array([[nan,  1.,  2.,  3.,  4.],\n",
       "       [ 5.,  6.,  7.,  8.,  9.],\n",
       "       [10., 11., 12., 13., 14.],\n",
       "       [15., 16., 17., 18., 19.]])"
      ]
     },
     "execution_count": 212,
     "metadata": {},
     "output_type": "execute_result"
    }
   ],
   "source": [
    "a"
   ]
  },
  {
   "cell_type": "code",
   "execution_count": 213,
   "metadata": {
    "id": "-vC-ypUnIQTp"
   },
   "outputs": [
    {
     "data": {
      "text/plain": [
       "array([nan, 34., 38., 42., 46.])"
      ]
     },
     "execution_count": 213,
     "metadata": {},
     "output_type": "execute_result"
    }
   ],
   "source": [
    "np.sum(a,axis=0)"
   ]
  },
  {
   "cell_type": "code",
   "execution_count": 214,
   "metadata": {
    "id": "KcYlocY5IQTp"
   },
   "outputs": [
    {
     "data": {
      "text/plain": [
       "array([30., 34., 38., 42., 46.])"
      ]
     },
     "execution_count": 214,
     "metadata": {},
     "output_type": "execute_result"
    }
   ],
   "source": [
    "np.nansum(a,axis=0)"
   ]
  },
  {
   "cell_type": "markdown",
   "metadata": {
    "id": "2w5O4sKdIQTp"
   },
   "source": [
    "# Sorting"
   ]
  },
  {
   "cell_type": "markdown",
   "metadata": {
    "id": "QMsjIi7lIQTp"
   },
   "source": [
    "array.sort() sorts an array in place.\n",
    "<br>np.sort(array) returns a sorted copy of an array instead of modifying the array in place. <br>We can sort values along rows or columns"
   ]
  },
  {
   "cell_type": "code",
   "execution_count": null,
   "metadata": {
    "id": "LgXYiFe2IQTp"
   },
   "outputs": [],
   "source": [
    "x=np.array([[4, 5, 8, 4, 0],\n",
    "       [3, 7, 8, 2, 5],\n",
    "       [8, 1, 1, 2, 1],\n",
    "       [4, 3, 1, 2, 4],\n",
    "       [6, 7, 0, 2, 9]])"
   ]
  },
  {
   "cell_type": "code",
   "execution_count": null,
   "metadata": {
    "id": "53kf2Kx5IQTq"
   },
   "outputs": [],
   "source": [
    "x"
   ]
  },
  {
   "cell_type": "code",
   "execution_count": null,
   "metadata": {
    "id": "pJz69q_fIQTr"
   },
   "outputs": [],
   "source": [
    "x.sort(0);x"
   ]
  },
  {
   "cell_type": "code",
   "execution_count": null,
   "metadata": {
    "id": "tI6r0z5qIQTr"
   },
   "outputs": [],
   "source": [
    "x=np.array([[4, 5, 8, 4, 0],\n",
    "       [3, 7, 8, 2, 5],\n",
    "       [8, 1, 1, 2, 1],\n",
    "       [4, 3, 1, 2, 4],\n",
    "       [6, 7, 0, 2, 9]])"
   ]
  },
  {
   "cell_type": "code",
   "execution_count": null,
   "metadata": {
    "id": "hBxrtS-BIQTr"
   },
   "outputs": [],
   "source": [
    "np.sort(x,axis=0)"
   ]
  },
  {
   "cell_type": "code",
   "execution_count": null,
   "metadata": {
    "id": "lQo-unT-IQTr"
   },
   "outputs": [],
   "source": [
    "x"
   ]
  },
  {
   "cell_type": "markdown",
   "metadata": {
    "id": "XMWAmGgBIQTr"
   },
   "source": [
    "## Indirect Sorts: argsort"
   ]
  },
  {
   "cell_type": "markdown",
   "metadata": {
    "id": "X61F9ipSIQTr"
   },
   "source": [
    "Argsort : Returns the indices that would sort an array."
   ]
  },
  {
   "cell_type": "code",
   "execution_count": 247,
   "metadata": {
    "id": "G_UAVSsSIQTs"
   },
   "outputs": [],
   "source": [
    "v=np.array([4,0,1,5,2])"
   ]
  },
  {
   "cell_type": "code",
   "execution_count": 248,
   "metadata": {
    "id": "n_bbMXqyIQTs"
   },
   "outputs": [
    {
     "data": {
      "text/plain": [
       "array([1, 2, 4, 0, 3])"
      ]
     },
     "execution_count": 248,
     "metadata": {},
     "output_type": "execute_result"
    }
   ],
   "source": [
    "t=np.argsort(v);t"
   ]
  },
  {
   "cell_type": "code",
   "execution_count": 249,
   "metadata": {
    "id": "TUeYaNZBIQTs"
   },
   "outputs": [
    {
     "data": {
      "text/plain": [
       "array([0, 1, 2, 4, 5])"
      ]
     },
     "execution_count": 249,
     "metadata": {},
     "output_type": "execute_result"
    }
   ],
   "source": [
    "v[t]"
   ]
  },
  {
   "cell_type": "markdown",
   "metadata": {
    "id": "uHsZN1J1IQTt"
   },
   "source": [
    "## Saving and Loading Text Files"
   ]
  },
  {
   "cell_type": "code",
   "execution_count": 250,
   "metadata": {
    "id": "yt7gT-O4IQTt"
   },
   "outputs": [
    {
     "data": {
      "text/plain": [
       "array([[ 4, 71, 88, 88, 50],\n",
       "       [54, 34, 15, 77, 88],\n",
       "       [15,  6, 85, 22, 11],\n",
       "       [12, 92, 96, 62, 57],\n",
       "       [79, 42, 57, 97, 50],\n",
       "       [45, 40, 89, 73, 37],\n",
       "       [ 0, 18, 23,  3, 29],\n",
       "       [16, 84, 82, 14, 51],\n",
       "       [79, 17, 50, 53, 25],\n",
       "       [48, 17, 32, 81, 80]])"
      ]
     },
     "execution_count": 250,
     "metadata": {},
     "output_type": "execute_result"
    }
   ],
   "source": [
    "x=np.random.randint(0,100,(10,5));x"
   ]
  },
  {
   "cell_type": "code",
   "execution_count": null,
   "metadata": {
    "id": "tbKFkLRyIQTt"
   },
   "outputs": [],
   "source": [
    "np.savetxt(\"random.txt\",x,delimiter=\",\")"
   ]
  },
  {
   "cell_type": "markdown",
   "metadata": {
    "id": "ZFoKJPRaIQTt"
   },
   "source": [
    "check out the random.txt file in your working directory"
   ]
  },
  {
   "cell_type": "markdown",
   "metadata": {
    "id": "a4Xlsc4vIQTt"
   },
   "source": [
    "Default format fmt='%.18e'"
   ]
  },
  {
   "cell_type": "markdown",
   "metadata": {
    "id": "8ezu0dPmIQTt"
   },
   "source": [
    "you can change the format as you wish"
   ]
  },
  {
   "cell_type": "code",
   "execution_count": null,
   "metadata": {
    "id": "9nC1-7VBIQTu"
   },
   "outputs": [],
   "source": [
    "np.savetxt(\"random.txt\",x,delimiter=\",\",fmt=\"%s\")"
   ]
  },
  {
   "cell_type": "markdown",
   "metadata": {
    "id": "h7BOZdijIQTu"
   },
   "source": [
    "## Broadcasting"
   ]
  },
  {
   "cell_type": "markdown",
   "metadata": {
    "id": "TxULFc88IQTu"
   },
   "source": [
    "Broadcasting describes how arithmetic works between arrays of different shapes"
   ]
  },
  {
   "cell_type": "code",
   "execution_count": 251,
   "metadata": {
    "id": "ZlZ2EcQrIQTu"
   },
   "outputs": [
    {
     "data": {
      "text/plain": [
       "array([[ 0,  1,  2],\n",
       "       [ 3,  4,  5],\n",
       "       [ 6,  7,  8],\n",
       "       [ 9, 10, 11]])"
      ]
     },
     "execution_count": 251,
     "metadata": {},
     "output_type": "execute_result"
    }
   ],
   "source": [
    "arr = np.arange(12).reshape(4,3) ; arr"
   ]
  },
  {
   "cell_type": "code",
   "execution_count": 252,
   "metadata": {
    "id": "0r8yWL2AIQTu"
   },
   "outputs": [
    {
     "data": {
      "text/plain": [
       "array([4.5, 5.5, 6.5])"
      ]
     },
     "execution_count": 252,
     "metadata": {},
     "output_type": "execute_result"
    }
   ],
   "source": [
    "arr_mean=arr.mean(axis=0) ; arr_mean"
   ]
  },
  {
   "cell_type": "code",
   "execution_count": 253,
   "metadata": {
    "id": "D79rd891IQTu"
   },
   "outputs": [
    {
     "data": {
      "text/plain": [
       "array([[-4.5, -4.5, -4.5],\n",
       "       [-1.5, -1.5, -1.5],\n",
       "       [ 1.5,  1.5,  1.5],\n",
       "       [ 4.5,  4.5,  4.5]])"
      ]
     },
     "execution_count": 253,
     "metadata": {},
     "output_type": "execute_result"
    }
   ],
   "source": [
    "arr-arr_mean"
   ]
  },
  {
   "cell_type": "markdown",
   "metadata": {
    "id": "gyXjUq1cIQTu"
   },
   "source": [
    "<div>\n",
    "<img src=\"attachment:Screen%20Shot%202020-11-29%20at%2013.42.14.png\" width=\"600\"/>\n",
    "</div>"
   ]
  },
  {
   "cell_type": "markdown",
   "metadata": {
    "id": "9NYvVY6RIQTv"
   },
   "source": [
    "### Concatenating and Splitting Arrays"
   ]
  },
  {
   "cell_type": "markdown",
   "metadata": {
    "id": "4BQXwGn4IQTv"
   },
   "source": [
    "numpy.concatenate takes a sequence (tuple, list, etc.) of arrays and joins them together in order along the input axis:"
   ]
  },
  {
   "cell_type": "code",
   "execution_count": 254,
   "metadata": {
    "id": "gJqp2sFOIQTw"
   },
   "outputs": [
    {
     "data": {
      "text/plain": [
       "array([[1, 2, 3],\n",
       "       [4, 5, 6]])"
      ]
     },
     "execution_count": 254,
     "metadata": {},
     "output_type": "execute_result"
    }
   ],
   "source": [
    "arr1 = np.array([[1, 2, 3], \n",
    "                 [4, 5, 6]]) ; arr1"
   ]
  },
  {
   "cell_type": "code",
   "execution_count": 255,
   "metadata": {
    "id": "teHohCrzIQTw"
   },
   "outputs": [
    {
     "data": {
      "text/plain": [
       "array([[ 7,  8,  9],\n",
       "       [10, 11, 12]])"
      ]
     },
     "execution_count": 255,
     "metadata": {},
     "output_type": "execute_result"
    }
   ],
   "source": [
    "arr2 = np.array([[7, 8, 9], \n",
    "                 [10, 11, 12]]) ; arr2"
   ]
  },
  {
   "cell_type": "code",
   "execution_count": 256,
   "metadata": {
    "id": "fG2oir2XIQTw",
    "scrolled": true
   },
   "outputs": [
    {
     "data": {
      "text/plain": [
       "array([[ 1,  2,  3],\n",
       "       [ 4,  5,  6],\n",
       "       [ 7,  8,  9],\n",
       "       [10, 11, 12]])"
      ]
     },
     "execution_count": 256,
     "metadata": {},
     "output_type": "execute_result"
    }
   ],
   "source": [
    "np.concatenate([arr1, arr2], axis=0)"
   ]
  },
  {
   "cell_type": "markdown",
   "metadata": {
    "id": "R_8Wld_ZIQTw"
   },
   "source": [
    "np.vstack for vertical stacking"
   ]
  },
  {
   "cell_type": "code",
   "execution_count": 257,
   "metadata": {
    "id": "vn0gxotJIQTw",
    "scrolled": true
   },
   "outputs": [
    {
     "data": {
      "text/plain": [
       "array([[ 1,  2,  3],\n",
       "       [ 4,  5,  6],\n",
       "       [ 7,  8,  9],\n",
       "       [10, 11, 12]])"
      ]
     },
     "execution_count": 257,
     "metadata": {},
     "output_type": "execute_result"
    }
   ],
   "source": [
    "np.vstack((arr1, arr2))"
   ]
  },
  {
   "cell_type": "markdown",
   "metadata": {
    "id": "gf3_n4rrIQTw"
   },
   "source": [
    "np.hstack for horizantal stacking"
   ]
  },
  {
   "cell_type": "code",
   "execution_count": 258,
   "metadata": {
    "id": "1sGUSAjPIQTx"
   },
   "outputs": [
    {
     "data": {
      "text/plain": [
       "array([[ 1,  2,  3,  7,  8,  9],\n",
       "       [ 4,  5,  6, 10, 11, 12]])"
      ]
     },
     "execution_count": 258,
     "metadata": {},
     "output_type": "execute_result"
    }
   ],
   "source": [
    "np.hstack((arr1,arr2))"
   ]
  },
  {
   "cell_type": "markdown",
   "metadata": {
    "id": "gjct4tU3IQTx"
   },
   "source": [
    "**split**, on the other hand, slices apart an array into multiple arrays along an axis:"
   ]
  },
  {
   "cell_type": "code",
   "execution_count": 259,
   "metadata": {
    "id": "zKBQn3lkIQTx"
   },
   "outputs": [
    {
     "data": {
      "text/plain": [
       "array([[0, 1],\n",
       "       [2, 3],\n",
       "       [4, 5],\n",
       "       [6, 7],\n",
       "       [8, 9]])"
      ]
     },
     "execution_count": 259,
     "metadata": {},
     "output_type": "execute_result"
    }
   ],
   "source": [
    "arr = np.arange(10).reshape(5, 2) ; arr"
   ]
  },
  {
   "cell_type": "code",
   "execution_count": 260,
   "metadata": {
    "id": "UBQmh-cBIQTx"
   },
   "outputs": [],
   "source": [
    "first, second, third = np.split(arr, [1, 3])"
   ]
  },
  {
   "cell_type": "code",
   "execution_count": 261,
   "metadata": {
    "id": "TeUw6FvrIQTx"
   },
   "outputs": [
    {
     "data": {
      "text/plain": [
       "array([[0, 1]])"
      ]
     },
     "execution_count": 261,
     "metadata": {},
     "output_type": "execute_result"
    }
   ],
   "source": [
    "first"
   ]
  },
  {
   "cell_type": "code",
   "execution_count": 262,
   "metadata": {
    "id": "OncbE1D5IQTx"
   },
   "outputs": [
    {
     "data": {
      "text/plain": [
       "array([[2, 3],\n",
       "       [4, 5]])"
      ]
     },
     "execution_count": 262,
     "metadata": {},
     "output_type": "execute_result"
    }
   ],
   "source": [
    "second"
   ]
  },
  {
   "cell_type": "code",
   "execution_count": 263,
   "metadata": {
    "id": "nbInAU6AIQTx"
   },
   "outputs": [
    {
     "data": {
      "text/plain": [
       "array([[6, 7],\n",
       "       [8, 9]])"
      ]
     },
     "execution_count": 263,
     "metadata": {},
     "output_type": "execute_result"
    }
   ],
   "source": [
    "third"
   ]
  },
  {
   "cell_type": "markdown",
   "metadata": {
    "id": "HPnWVDSgIQTy"
   },
   "source": [
    "### Transposing Arrays "
   ]
  },
  {
   "cell_type": "code",
   "execution_count": 264,
   "metadata": {
    "id": "OngkyMtbIQTz"
   },
   "outputs": [
    {
     "data": {
      "text/plain": [
       "array([[ 0,  1,  2,  3,  4],\n",
       "       [ 5,  6,  7,  8,  9],\n",
       "       [10, 11, 12, 13, 14]])"
      ]
     },
     "execution_count": 264,
     "metadata": {},
     "output_type": "execute_result"
    }
   ],
   "source": [
    "arr = np.arange(15).reshape((3, 5)) ; arr"
   ]
  },
  {
   "cell_type": "code",
   "execution_count": 265,
   "metadata": {
    "id": "mIxBVL3fIQTz"
   },
   "outputs": [
    {
     "data": {
      "text/plain": [
       "array([[ 0,  5, 10],\n",
       "       [ 1,  6, 11],\n",
       "       [ 2,  7, 12],\n",
       "       [ 3,  8, 13],\n",
       "       [ 4,  9, 14]])"
      ]
     },
     "execution_count": 265,
     "metadata": {},
     "output_type": "execute_result"
    }
   ],
   "source": [
    "arr.T"
   ]
  },
  {
   "cell_type": "markdown",
   "metadata": {
    "id": "cXJWJ1PlIQTz"
   },
   "source": [
    "# Linear Algebra"
   ]
  },
  {
   "cell_type": "code",
   "execution_count": 266,
   "metadata": {
    "id": "R2-C-lmPIQTz"
   },
   "outputs": [],
   "source": [
    "x = np.array([[1., 2., 3.], [4., 5., 6.]])\n",
    "y = np.array([[6., 23.], [-1, 7], [8, 9]])"
   ]
  },
  {
   "cell_type": "code",
   "execution_count": 267,
   "metadata": {
    "id": "iwHuqFBpIQT0"
   },
   "outputs": [
    {
     "data": {
      "text/plain": [
       "array([[1., 2., 3.],\n",
       "       [4., 5., 6.]])"
      ]
     },
     "execution_count": 267,
     "metadata": {},
     "output_type": "execute_result"
    }
   ],
   "source": [
    "x"
   ]
  },
  {
   "cell_type": "code",
   "execution_count": 268,
   "metadata": {
    "id": "Zu4Xg8L4IQT0"
   },
   "outputs": [
    {
     "data": {
      "text/plain": [
       "array([[ 6., 23.],\n",
       "       [-1.,  7.],\n",
       "       [ 8.,  9.]])"
      ]
     },
     "execution_count": 268,
     "metadata": {},
     "output_type": "execute_result"
    }
   ],
   "source": [
    "y"
   ]
  },
  {
   "cell_type": "markdown",
   "metadata": {
    "id": "HwHx6kJyIQT0"
   },
   "source": [
    "matrix multiplication"
   ]
  },
  {
   "cell_type": "code",
   "execution_count": 269,
   "metadata": {
    "id": "tVVtVU21IQT0"
   },
   "outputs": [
    {
     "data": {
      "text/plain": [
       "array([[ 28.,  64.],\n",
       "       [ 67., 181.]])"
      ]
     },
     "execution_count": 269,
     "metadata": {},
     "output_type": "execute_result"
    }
   ],
   "source": [
    "x.dot(y)"
   ]
  },
  {
   "cell_type": "code",
   "execution_count": 270,
   "metadata": {
    "id": "95Wf7xpZIQT0"
   },
   "outputs": [
    {
     "data": {
      "text/plain": [
       "array([[ 28.,  64.],\n",
       "       [ 67., 181.]])"
      ]
     },
     "execution_count": 270,
     "metadata": {},
     "output_type": "execute_result"
    }
   ],
   "source": [
    "np.dot(x, y)"
   ]
  },
  {
   "cell_type": "markdown",
   "metadata": {
    "id": "LeoEdlaNIQT0"
   },
   "source": [
    "The @ symbol (as of Python 3.5) also works as an infix operator that performs matrix multiplication:"
   ]
  },
  {
   "cell_type": "code",
   "execution_count": 271,
   "metadata": {
    "id": "30L6tkSQIQT0"
   },
   "outputs": [
    {
     "data": {
      "text/plain": [
       "array([ 6., 15.])"
      ]
     },
     "execution_count": 271,
     "metadata": {},
     "output_type": "execute_result"
    }
   ],
   "source": [
    "x @ np.ones(3)"
   ]
  },
  {
   "cell_type": "markdown",
   "metadata": {
    "id": "V43nNRViIQT1"
   },
   "source": [
    "if you need linear algebra functions you can get them from numpy.linalg"
   ]
  },
  {
   "cell_type": "code",
   "execution_count": 272,
   "metadata": {
    "id": "oN-lwuWnIQT1"
   },
   "outputs": [],
   "source": [
    "from numpy.linalg import inv\n",
    "X = np.random.randn(5, 5)"
   ]
  },
  {
   "cell_type": "code",
   "execution_count": 273,
   "metadata": {
    "id": "d2HxYgWUIQT1"
   },
   "outputs": [
    {
     "data": {
      "text/plain": [
       "array([[ 0.46956276,  0.32692165,  1.80854321, -1.413068  ,  2.52330509],\n",
       "       [ 0.3473178 , -0.88735951, -1.05961725,  0.34795146, -1.55866445],\n",
       "       [-0.99504103,  2.62115252, -0.34088642, -0.16209416,  0.43295951],\n",
       "       [-0.00449346, -1.86472139, -0.60772586,  2.61912518,  0.66359295],\n",
       "       [ 1.49161383, -0.18764498,  0.63650258,  1.61750813, -0.10197468]])"
      ]
     },
     "execution_count": 273,
     "metadata": {},
     "output_type": "execute_result"
    }
   ],
   "source": [
    "X"
   ]
  },
  {
   "cell_type": "code",
   "execution_count": 274,
   "metadata": {
    "id": "z9p3c_lTIQT1"
   },
   "outputs": [],
   "source": [
    "mat = X.T.dot(X)"
   ]
  },
  {
   "cell_type": "code",
   "execution_count": 275,
   "metadata": {
    "id": "xfnI_5zZIQT2"
   },
   "outputs": [
    {
     "data": {
      "text/plain": [
       "array([[ 3.55615751, -3.03435462,  1.77254343,  2.01954454,  0.05759705],\n",
       "       [-3.03435462, 11.27712168,  1.65180095, -6.3830501 ,  2.12459075],\n",
       "       [ 1.77254343,  1.65180095,  5.28428704, -3.4311962 ,  5.59931424],\n",
       "       [ 2.01954454, -6.3830501 , -3.4311962 , 11.62025519, -2.60503331],\n",
       "       [ 0.05759705,  2.12459075,  5.59931424, -2.60503331,  9.43471181]])"
      ]
     },
     "execution_count": 275,
     "metadata": {},
     "output_type": "execute_result"
    }
   ],
   "source": [
    "mat"
   ]
  },
  {
   "cell_type": "code",
   "execution_count": 276,
   "metadata": {
    "id": "bcBYxvoOIQT2"
   },
   "outputs": [
    {
     "data": {
      "text/plain": [
       "array([[ 3.15928406,  0.499253  , -3.851986  , -0.99057989,  1.88085371],\n",
       "       [ 0.499253  ,  0.21244536, -0.55877576, -0.07688869,  0.25950433],\n",
       "       [-3.851986  , -0.55877576,  5.32679408,  1.343318  , -2.64109529],\n",
       "       [-0.99057989, -0.07688869,  1.343318  ,  0.46811997, -0.64461747],\n",
       "       [ 1.88085371,  0.25950433, -2.64109529, -0.64461747,  1.42552318]])"
      ]
     },
     "execution_count": 276,
     "metadata": {},
     "output_type": "execute_result"
    }
   ],
   "source": [
    "inv(mat)"
   ]
  },
  {
   "cell_type": "markdown",
   "metadata": {
    "id": "8R_gR7D-IQT2"
   },
   "source": [
    "<div>\n",
    "<img src=\"attachment:Screen%20Shot%202020-11-29%20at%2021.14.41.png\" width=\"600\"/>\n",
    "</div>"
   ]
  },
  {
   "cell_type": "markdown",
   "metadata": {
    "id": "_2GuXIsmIQT2"
   },
   "source": [
    "# Example"
   ]
  },
  {
   "cell_type": "markdown",
   "metadata": {
    "id": "4Jh5eVBMIQT2"
   },
   "source": [
    "In this example, we will investigate the sales profile of a certain production to different customers.\n",
    "<br> Suppose we have 1000 customers and we have the sales amount of the product for 30 days.\n",
    "<br> First, construct two-dimensional array for this hypothetical example."
   ]
  },
  {
   "cell_type": "code",
   "execution_count": 215,
   "metadata": {
    "id": "HidUX4QSIQT2"
   },
   "outputs": [
    {
     "data": {
      "text/plain": [
       "array([[9, 4, 0, ..., 2, 4, 6],\n",
       "       [2, 0, 2, ..., 5, 2, 8],\n",
       "       [9, 5, 4, ..., 6, 9, 1],\n",
       "       ...,\n",
       "       [5, 0, 4, ..., 6, 0, 1],\n",
       "       [4, 0, 6, ..., 0, 5, 2],\n",
       "       [1, 1, 0, ..., 5, 1, 8]])"
      ]
     },
     "execution_count": 215,
     "metadata": {},
     "output_type": "execute_result"
    }
   ],
   "source": [
    "np.random.seed(10)\n",
    "data=np.random.randint(0,10,(30,1000));data"
   ]
  },
  {
   "cell_type": "code",
   "execution_count": 221,
   "metadata": {},
   "outputs": [
    {
     "data": {
      "text/plain": [
       "array([4565, 4459, 4447, 4535, 4554, 4468, 4435, 4507, 4508, 4423, 4431,\n",
       "       4412, 4479, 4441, 4417, 4443, 4583, 4456, 4440, 4281, 4513, 4466,\n",
       "       4585, 4526, 4520, 4536, 4454, 4442, 4401, 4597])"
      ]
     },
     "execution_count": 221,
     "metadata": {},
     "output_type": "execute_result"
    }
   ],
   "source": [
    "data.sum(axis = 1)"
   ]
  },
  {
   "cell_type": "markdown",
   "metadata": {
    "id": "p__HFbNnIQT2"
   },
   "source": [
    "## calculate the total amount of sales for each day."
   ]
  },
  {
   "cell_type": "code",
   "execution_count": 222,
   "metadata": {
    "id": "6C39qyR6IQT2"
   },
   "outputs": [
    {
     "name": "stdout",
     "output_type": "stream",
     "text": [
      "CPU times: user 103 µs, sys: 29 µs, total: 132 µs\n",
      "Wall time: 202 µs\n"
     ]
    }
   ],
   "source": [
    "%time totalsales=data.sum(axis = 1)"
   ]
  },
  {
   "cell_type": "markdown",
   "metadata": {
    "id": "S0gkFEUMIQT2"
   },
   "source": [
    "## Let’s calculate the total sales without using numpy:"
   ]
  },
  {
   "cell_type": "code",
   "execution_count": null,
   "metadata": {
    "id": "xGbZzAfcIQT3"
   },
   "outputs": [],
   "source": [
    "def totaldata(data):\n",
    "    [m,n]=data.shape\n",
    "    total_sales=[]\n",
    "    for i in range(m):\n",
    "        sales=0\n",
    "        for j in range(n):\n",
    "            sales += data[i,j]\n",
    "        total_sales.append(sales)\n",
    "    return total_sales\n"
   ]
  },
  {
   "cell_type": "code",
   "execution_count": null,
   "metadata": {
    "id": "DvcQ_6wWIQT3"
   },
   "outputs": [],
   "source": [
    "%time totalsales=totaldata(data)"
   ]
  },
  {
   "cell_type": "code",
   "execution_count": 229,
   "metadata": {},
   "outputs": [
    {
     "data": {
      "text/plain": [
       "array([891, 906, 899, 892, 903, 906, 900, 908, 892, 897, 890, 894, 908,\n",
       "       895, 899, 900, 908, 907, 892, 895, 892, 891, 904, 891, 902, 899,\n",
       "       906, 894, 883, 912])"
      ]
     },
     "execution_count": 229,
     "metadata": {},
     "output_type": "execute_result"
    }
   ],
   "source": [
    "np.count_nonzero(data, axis = 1)"
   ]
  },
  {
   "cell_type": "code",
   "execution_count": 232,
   "metadata": {},
   "outputs": [
    {
     "data": {
      "text/plain": [
       "array([109,  94, 101, 108,  97,  94, 100,  92, 108, 103, 110, 106,  92,\n",
       "       105, 101, 100,  92,  93, 108, 105, 108, 109,  96, 109,  98, 101,\n",
       "        94, 106, 117,  88])"
      ]
     },
     "execution_count": 232,
     "metadata": {},
     "output_type": "execute_result"
    }
   ],
   "source": [
    "np.sum(data ==0, axis = 1)"
   ]
  },
  {
   "cell_type": "code",
   "execution_count": 234,
   "metadata": {},
   "outputs": [
    {
     "data": {
      "text/plain": [
       "array([109,  94, 101, 108,  97,  94, 100,  92, 108, 103, 110, 106,  92,\n",
       "       105, 101, 100,  92,  93, 108, 105, 108, 109,  96, 109,  98, 101,\n",
       "        94, 106, 117,  88])"
      ]
     },
     "execution_count": 234,
     "metadata": {},
     "output_type": "execute_result"
    }
   ],
   "source": [
    "np.where(data == 0,1,0).sum(axis = 1)"
   ]
  },
  {
   "cell_type": "markdown",
   "metadata": {
    "id": "iHcKk5BjIQT3"
   },
   "source": [
    "## Let’s count the number of customers who did not buy the product for each day.\n",
    "• We will simply count zeros at every row."
   ]
  },
  {
   "cell_type": "code",
   "execution_count": 223,
   "metadata": {
    "id": "6g6qyL5zIQT3"
   },
   "outputs": [
    {
     "name": "stdout",
     "output_type": "stream",
     "text": [
      "CPU times: user 100 µs, sys: 58 µs, total: 158 µs\n",
      "Wall time: 212 µs\n"
     ]
    }
   ],
   "source": [
    "%time zerosales=data.sum()"
   ]
  },
  {
   "cell_type": "code",
   "execution_count": null,
   "metadata": {
    "id": "5LjXrhATIQT3"
   },
   "outputs": [],
   "source": [
    "zerosales"
   ]
  },
  {
   "cell_type": "code",
   "execution_count": null,
   "metadata": {
    "id": "ERUgL-zWIQT4"
   },
   "outputs": [],
   "source": [
    "def countzeros(data):\n",
    "    [m,n]=data.shape\n",
    "    zeros=[]\n",
    "    for i in range(m):\n",
    "        zero=0\n",
    "        for j in range(n):\n",
    "            if data[i,j] == 0:\n",
    "                zero += 1\n",
    "        zeros.append(zero)\n",
    "    return zeros\n",
    "    "
   ]
  },
  {
   "cell_type": "code",
   "execution_count": null,
   "metadata": {
    "id": "xhtPghlDIQT4"
   },
   "outputs": [],
   "source": [
    "%time zerosales=countzeros(data)"
   ]
  },
  {
   "cell_type": "code",
   "execution_count": null,
   "metadata": {
    "id": "bU4tT8IZIQT4"
   },
   "outputs": [],
   "source": [
    "zerosales"
   ]
  },
  {
   "cell_type": "markdown",
   "metadata": {
    "id": "CNPDYlTsIQT4"
   },
   "source": [
    "## Let’s find the customer who has the highest standard deviation of the orders."
   ]
  },
  {
   "cell_type": "code",
   "execution_count": 244,
   "metadata": {
    "id": "DfvRWkzGIQT4"
   },
   "outputs": [
    {
     "data": {
      "text/plain": [
       "array([2.61640126, 2.77368588, 2.41775837, 2.99258342, 2.87691965,\n",
       "       3.30134653, 3.0521395 , 2.88598144, 2.43150616, 2.71293199,\n",
       "       3.05868527, 2.78906595, 2.6265736 , 2.22236111, 2.92517806,\n",
       "       2.64259973, 2.83725219, 2.93257566, 2.83646885, 2.5830645 ,\n",
       "       2.66687499, 2.78906595, 2.69670581, 2.41292814, 2.83940526,\n",
       "       2.53880987, 2.64764046, 2.62466929, 2.64491126, 2.41499942,\n",
       "       3.16157485, 2.84722087, 2.78268456, 2.68927913, 2.48640749,\n",
       "       2.74388208, 2.89923362, 3.1701735 , 2.76807193, 2.82528268,\n",
       "       2.79205221, 3.08850917, 2.68741925, 2.69175696, 2.91814248,\n",
       "       3.03021818, 2.6392339 , 2.58822118, 2.88598144, 2.61215109,\n",
       "       3.02140512, 2.73170683, 2.99425376, 2.68245327, 2.9816103 ,\n",
       "       2.41844762, 2.9089899 , 2.63227827, 2.98812464, 3.02581486,\n",
       "       3.18049612, 3.01864576, 2.68514432, 3.06757233, 3.20347034,\n",
       "       2.74388208, 3.03040151, 2.89520677, 2.62233992, 2.89059779,\n",
       "       2.96066809, 3.06974483, 2.8676355 , 2.94938788, 2.86453409,\n",
       "       2.35135895, 3.16649122, 2.71641103, 2.94316534, 2.73840992,\n",
       "       2.88848288, 3.19722102, 3.27973576, 3.01477841, 2.99703557,\n",
       "       2.88771344, 2.85365263, 2.87150754, 2.9844039 , 3.12765443,\n",
       "       2.9280255 , 2.84194769, 2.88598144, 2.80178515, 2.95240015,\n",
       "       3.04795013, 3.02599846, 2.58972328, 3.33016516, 2.7770888 ,\n",
       "       2.87150754, 2.56818137, 2.75862284, 2.62995564, 2.68927913,\n",
       "       2.72457948, 2.60959767, 2.69979423, 2.87440815, 2.76505977,\n",
       "       3.10841153, 2.62149237, 2.56558419, 2.98216923, 2.95446931,\n",
       "       3.14748577, 3.03699413, 2.82469271, 2.41292814, 2.50798724,\n",
       "       2.52630604, 2.70719207, 2.74145136, 3.22576434, 2.64764046,\n",
       "       2.89136646, 3.33399993, 2.94788059, 2.63417708, 2.62974439,\n",
       "       2.64259973, 3.12498889, 2.8720879 , 2.66020049, 2.79702223,\n",
       "       2.74084334, 2.37603778, 3.00536557, 2.82528268, 3.01919783,\n",
       "       2.37673913, 2.67996683, 2.96066809, 2.68328157, 2.60448331,\n",
       "       3.11911668, 2.89520677, 2.98812464, 2.46846781, 2.65329983,\n",
       "       2.7139557 , 2.62974439, 2.9747082 , 3.06249717, 2.87440815,\n",
       "       2.92574777, 2.87440815, 2.47296493, 2.8676355 , 2.6751947 ,\n",
       "       2.63227827, 3.35393633, 3.5282983 , 3.14624997, 3.10841153,\n",
       "       2.61640126, 2.77288458, 2.93257566, 2.87440815, 2.83646885,\n",
       "       2.6265736 , 2.81286726, 2.63502056, 2.74145136, 2.85365263,\n",
       "       2.79702223, 2.73840992, 2.70164559, 2.66999792, 2.67934486,\n",
       "       2.82370914, 2.72926527, 2.84878142, 2.44244868, 2.85287379,\n",
       "       2.81582828, 2.78008793, 2.93181779, 2.82233158, 2.83313725,\n",
       "       2.9569128 , 2.76505977, 2.28740513, 3.01643646, 2.63818119,\n",
       "       2.29975844, 2.70719207, 2.81760339, 3.19878449, 2.70985854,\n",
       "       2.79463772, 2.68762597, 2.88077922, 2.59079567, 2.95972972,\n",
       "       3.12498889, 2.98812464, 3.14466038, 2.90516781, 3.01643646,\n",
       "       2.60959767, 2.55799401, 3.12765443, 2.98589276, 2.69485106,\n",
       "       3.09497801, 3.1638584 , 2.65078605, 2.9061238 , 2.99332591,\n",
       "       2.94392029, 3.10626607, 3.26683673, 2.9569128 , 2.5819889 ,\n",
       "       2.86821664, 2.77067982, 2.66333125, 2.85598786, 2.68741925,\n",
       "       2.52564623, 3.32599192, 2.6392339 , 3.03241744, 3.10268701,\n",
       "       3.19113355, 3.0739045 , 2.80950767, 2.79702223, 2.49644191,\n",
       "       2.90382889, 3.24704994, 3.02599846, 2.80574807, 2.90382889,\n",
       "       2.97097066, 2.39072281, 2.9089899 , 2.49644191, 2.75358352,\n",
       "       3.09282323, 2.47116707, 2.71947707, 2.28254244, 3.01938184,\n",
       "       3.305887  , 2.9448637 , 2.94033256, 2.39930546, 2.8       ,\n",
       "       2.86821664, 2.91814248, 3.06684782, 2.80653998, 2.97694847,\n",
       "       2.61278906, 3.03241744, 2.72865453, 2.89520677, 2.71947707,\n",
       "       2.91833286, 2.95221198, 2.87923601, 3.15330514, 2.86530976,\n",
       "       2.9747082 , 3.30386978, 2.96348144, 2.94089933, 2.91356978,\n",
       "       2.65497437, 2.57358375, 2.8836705 , 2.6925824 , 3.23247411,\n",
       "       3.2180049 , 2.77368588, 2.70903837, 2.88598144, 2.34283779,\n",
       "       2.27571723, 3.04065052, 2.43698356, 2.38047614, 3.12071929,\n",
       "       2.68245327, 2.52124308, 2.90229794, 2.51241362, 3.02746685,\n",
       "       2.60362994, 2.51661148, 2.58822118, 2.76566247, 2.89827535,\n",
       "       3.19095945, 3.13687743, 3.00758301, 2.4       , 3.08418907,\n",
       "       2.63733873, 2.8720879 , 3.00092578, 3.18677824, 2.5309199 ,\n",
       "       2.646801  , 2.89750851, 3.09282323, 2.7139557 , 2.66249674,\n",
       "       3.22989508, 2.62911054, 3.16157485, 2.40947205, 2.96066809,\n",
       "       2.76505977, 2.92954301, 2.5157283 , 2.70164559, 2.98216923,\n",
       "       2.55190561, 2.92289811, 3.18956632, 2.28254244, 3.01919783,\n",
       "       2.71293199, 2.65015723, 3.06521705, 3.2709156 , 2.87614711,\n",
       "       2.76405499, 3.10841153, 2.71702452, 3.02140512, 3.01772541,\n",
       "       2.7770888 , 3.13776283, 2.33452351, 3.29376515, 2.71538825,\n",
       "       2.87150754, 2.81345971, 2.91528539, 2.71947707, 2.90669725,\n",
       "       2.93806437, 2.68927913, 2.66333125, 2.71293199, 2.95221198,\n",
       "       3.03241744, 2.53618261, 2.61385199, 2.65497437, 2.93806437,\n",
       "       2.7968236 , 2.23730989, 2.51307691, 2.76566247, 3.20086794,\n",
       "       3.08418907, 2.57423128, 2.66437401, 3.00388637, 2.43036348,\n",
       "       2.71231758, 2.44131112, 2.37323033, 2.73170683, 2.63754937,\n",
       "       2.59079567, 2.68762597, 2.87904305, 3.18747549, 2.82370914,\n",
       "       2.62551582, 2.65329983, 2.89827535, 2.87614711, 2.70411209,\n",
       "       2.69175696, 2.64238949, 2.75358352, 2.92498813, 2.81760339,\n",
       "       2.6658332 , 2.75862284, 3.15805848, 2.93636207, 2.7770888 ,\n",
       "       3.01919783, 3.05432298, 2.92042615, 3.13776283, 2.62974439,\n",
       "       1.89179515, 2.64491126, 3.11341185, 3.16578935, 2.8836705 ,\n",
       "       2.68824602, 2.52454616, 2.4506235 , 2.75297819, 2.92574777,\n",
       "       2.92669704, 2.76987765, 2.87904305, 2.88309248, 2.64764046,\n",
       "       2.77468717, 2.92669704, 2.82842712, 2.64238949, 2.86453409,\n",
       "       2.75297819, 2.26470503, 3.02875112, 2.94788059, 2.93806437,\n",
       "       2.68328157, 2.93711877, 2.75297819, 3.22903494, 2.90516781,\n",
       "       2.56233401, 3.0632227 , 2.6392339 , 2.7770888 , 2.8207564 ,\n",
       "       2.67685554, 2.56493448, 3.04940796, 2.07525099, 2.50244325,\n",
       "       2.85754362, 2.9747082 , 2.96198132, 2.91661905, 2.81839198,\n",
       "       2.61215109, 2.37323033, 2.66749987, 3.01919783, 2.86821664,\n",
       "       2.86045839, 2.95221198, 3.03845721, 2.92954301, 2.91814248,\n",
       "       2.88598144, 3.17700068, 3.00536557, 2.96741564, 3.29578856,\n",
       "       2.95221198, 2.80653998, 2.81839198, 2.55712512, 2.78567766,\n",
       "       2.65748419, 2.78268456, 2.99925917, 2.94033256, 2.97414787,\n",
       "       2.60959767, 2.41292814, 2.83705638, 2.70719207, 3.02746685,\n",
       "       2.87440815, 2.97862757, 2.76405499, 2.57789751, 2.76566247,\n",
       "       2.08939119, 3.09282323, 3.14624997, 2.80891438, 2.74084334,\n",
       "       2.46959286, 2.71231758, 2.98310055, 2.99425376, 2.89059779,\n",
       "       2.74388208, 3.14466038, 2.66749987, 2.96573019, 2.86045839,\n",
       "       2.89539865, 2.61640126, 3.07607253, 2.75297819, 2.58822118,\n",
       "       2.81365717, 3.15260034, 2.90669725, 2.49644191, 2.94316534,\n",
       "       2.81839198, 2.78507929, 2.86744176, 2.40739601, 2.87054002,\n",
       "       2.44858236, 2.78567766, 2.89750851, 2.93655127, 2.80475786,\n",
       "       3.03021818, 2.74145136, 2.92954301, 2.96291898, 2.85365263,\n",
       "       3.00813711, 3.06249717, 3.10214979, 2.99925917, 2.89136646,\n",
       "       2.89463105, 2.81582828, 2.51771501, 2.86045839, 2.33713975,\n",
       "       2.92897403, 3.04503238, 3.1       , 2.26470503, 2.94089933,\n",
       "       2.84819631, 3.08202675, 2.85657137, 2.60427   , 2.76505977,\n",
       "       2.71947707, 2.93636207, 2.75297819, 2.8       , 2.89078997,\n",
       "       2.75862284, 2.96066809, 3.16157485, 2.5157283 , 2.70164559,\n",
       "       2.92289811, 2.79861077, 2.44585818, 3.14271645, 3.24139887,\n",
       "       2.67186992, 2.87440815, 2.71231758, 3.01109061, 2.98979747,\n",
       "       2.60682864, 2.53968502, 2.23208921, 2.65832027, 2.44244868,\n",
       "       2.86744176, 2.31924317, 2.89520677, 3.01643646, 2.71538825,\n",
       "       3.05432298, 2.32498507, 2.73982968, 2.646801  , 2.85598786,\n",
       "       2.68824602, 2.67830792, 2.68514432, 2.83940526, 2.87614711,\n",
       "       2.73982968, 3.13563745, 2.71947707, 2.99925917, 2.66749987,\n",
       "       3.20138859, 3.22645316, 2.79205221, 2.69752973, 2.59401019,\n",
       "       2.98142397, 2.67186992, 2.34781222, 3.00813711, 2.48305368,\n",
       "       3.04065052, 3.25303277, 2.86045839, 2.98216923, 2.92289811,\n",
       "       3.0521395 , 2.65748419, 3.08328829, 2.94033256, 2.77468717,\n",
       "       3.11697859, 2.21635336, 2.29975844, 2.28619043, 2.97022259,\n",
       "       2.71211275, 2.57531012, 2.595937  , 2.84018779, 2.33357142,\n",
       "       2.6392339 , 2.49466097, 2.60682864, 2.67934486, 2.63733873,\n",
       "       3.05432298, 3.10214979, 2.2420229 , 2.94938788, 2.91528539,\n",
       "       2.65832027, 2.70411209, 3.03021818, 3.16649122, 2.29709962,\n",
       "       2.75196899, 2.83313725, 2.80574807, 2.79463772, 3.11430392,\n",
       "       2.96291898, 2.69752973, 2.68927913, 2.90688837, 2.97414787,\n",
       "       2.88309248, 3.07336226, 3.09497801, 2.80396545, 2.58714772,\n",
       "       2.74873708, 2.93806437, 3.13421973, 3.18049612, 2.67581763,\n",
       "       2.73840992, 3.15330514, 2.62805378, 2.59401019, 3.25047005,\n",
       "       3.04940796, 2.59679289, 2.78008793, 3.11001965, 3.37786915,\n",
       "       3.22576434, 2.74145136, 2.80653998, 3.05432298, 2.25807194,\n",
       "       3.05432298, 2.81286726, 2.68824602, 2.57099203, 2.67498702,\n",
       "       2.68431659, 2.81582828, 3.06304134, 2.45764115, 2.51859749,\n",
       "       2.99425376, 2.56818137, 2.35796522, 2.59401019, 2.78188585,\n",
       "       2.92042615, 2.97097066, 2.96066809, 3.193048  , 2.93428015,\n",
       "       2.57854395, 2.81365717, 2.75358352, 2.86918494, 2.79861077,\n",
       "       3.0632227 , 2.60768096, 2.85112064, 3.04576208, 2.62488095,\n",
       "       3.11644384, 2.91528539, 3.05159339, 2.94033256, 2.70719207,\n",
       "       2.8836705 , 2.88077922, 2.69485106, 2.91814248, 2.84116564,\n",
       "       2.52894357, 2.37954244, 2.93806437, 3.00813711, 2.38047614,\n",
       "       2.74145136, 2.86821664, 2.91757129, 3.40734501, 2.67498702,\n",
       "       2.84878142, 3.12783205, 2.80950767, 3.01275068, 2.57336788,\n",
       "       2.31804515, 2.57358375, 2.69072481, 2.96348144, 2.75196899,\n",
       "       2.74084334, 2.17076535, 2.90382889, 2.6265736 , 2.40947205,\n",
       "       2.8720879 , 2.74145136, 2.77608838, 2.99925917, 2.72457948,\n",
       "       2.6392339 , 2.83235277, 2.69485106, 2.91833286, 2.80396545,\n",
       "       3.08202675, 2.64491126, 2.91757129, 2.98216923, 2.49532897,\n",
       "       3.1       , 2.60874597, 2.66770813, 2.55516905, 2.9448637 ,\n",
       "       2.79384244, 2.25585658, 2.92042615, 2.83254891, 3.04503238,\n",
       "       2.69670581, 2.94392029, 2.89136646, 2.68741925, 2.92954301,\n",
       "       2.37603778, 2.99647942, 2.47857486, 2.58392466, 2.60768096,\n",
       "       2.87923601, 2.54209013, 2.97190549, 3.20347034, 2.17076535,\n",
       "       3.25303277, 2.6       , 2.84018779, 2.56818137, 3.04119859,\n",
       "       2.64994759, 3.22214559, 2.48573709, 2.44517666, 2.63227827,\n",
       "       2.60362994, 3.09551647, 2.69072481, 2.91528539, 2.55516905,\n",
       "       3.19878449, 2.82528268, 2.79702223, 2.78008793, 2.53421037,\n",
       "       3.00444116, 3.10626607, 3.12498889, 2.92498813, 2.96198132,\n",
       "       2.7343494 , 2.7505555 , 2.73353658, 3.01496269, 3.1778749 ,\n",
       "       2.81286726, 2.75862284, 2.78008793, 2.63227827, 3.446254  ,\n",
       "       2.3990739 , 3.11555239, 2.5914389 , 2.85890422, 2.77308492,\n",
       "       3.10626607, 2.88077922, 2.76987765, 2.52102272, 3.07607253,\n",
       "       3.02599846, 2.53442959, 2.8207564 , 2.62488095, 2.83235277,\n",
       "       2.79761803, 2.84897642, 3.1019707 , 2.84897642, 2.98533452,\n",
       "       3.24225573, 2.75600355, 2.55190561, 2.86530976, 3.20780299,\n",
       "       2.95240015, 2.595937  , 2.54820198, 3.28988348, 2.94033256,\n",
       "       2.62974439, 2.71722898, 2.77768889, 2.71211275, 2.16769207,\n",
       "       2.85112064, 2.87518115, 2.39002557, 3.29376515, 2.9280255 ,\n",
       "       2.9143324 , 2.53421037, 3.22421394, 3.00758301, 2.67581763,\n",
       "       2.55255863, 2.61533937, 2.90229794, 2.53442959, 3.01035251,\n",
       "       2.85890422, 2.76505977, 2.82469271, 2.77768889, 2.45764115,\n",
       "       2.84819631, 2.92897403, 3.13829395, 2.97414787, 2.52564623,\n",
       "       2.68741925, 2.33071281, 2.78906595, 3.12498889, 2.41660919,\n",
       "       2.92897403, 3.05668666, 2.59165327, 2.89059779, 2.49644191,\n",
       "       3.15541862, 2.73170683, 3.16736834, 2.46215804, 2.87150754,\n",
       "       3.00444116, 2.77768889, 2.91757129, 2.74570371, 2.8207564 ,\n",
       "       2.78188585, 3.27549827, 2.38723457, 2.58650343, 2.92897403,\n",
       "       2.87228132, 2.79761803, 3.29325911, 2.57854395, 2.85754362,\n",
       "       2.66687499, 2.18479595, 3.01772541, 2.93806437, 2.76987765,\n",
       "       3.12498889, 2.85987568, 2.74873708, 2.68824602, 3.06684782,\n",
       "       3.17367645, 2.74388208, 2.77308492, 2.70411209, 2.93938769,\n",
       "       2.84878142, 3.04940796, 2.70411209, 2.73840992, 3.16947244,\n",
       "       2.54929184, 2.76505977, 2.8       , 2.73982968, 2.85890422,\n",
       "       3.21955829, 3.09766937, 2.8676355 , 2.53771551, 2.56580072,\n",
       "       2.81345971, 2.81345971, 2.48908729, 2.28740513, 3.21126489,\n",
       "       3.00370142, 2.87614711, 3.00092578, 2.80178515, 3.06304134,\n",
       "       2.78667464, 2.85890422, 3.05068298, 3.11001965, 2.52300526,\n",
       "       3.04119859, 2.95240015, 2.63502056, 2.9143324 , 3.11555239,\n",
       "       3.06031952, 2.72519112, 3.01496269, 3.28024389, 2.97769486,\n",
       "       2.84722087, 2.84116564, 2.78966346, 2.53968502, 2.65183375,\n",
       "       3.01643646, 3.04503238, 2.92897403, 2.60682864, 2.7770888 ,\n",
       "       2.93655127, 3.3       , 3.02746685, 2.78268456, 3.03973683,\n",
       "       3.28312182, 2.78667464, 3.2216283 , 2.65497437, 2.5086517 ,\n",
       "       3.02305952, 2.96573019, 2.74388208, 2.79702223, 3.00758301,\n",
       "       3.04940796, 2.7770888 , 2.83725219, 2.71641103, 2.95240015,\n",
       "       3.09282323, 3.00388637, 2.90516781, 2.76505977, 2.70493376,\n",
       "       2.89059779, 2.72519112, 2.88212884, 3.00813711, 3.15682682,\n",
       "       2.44062833, 3.04338992, 2.7898626 , 2.8676355 , 3.09408037])"
      ]
     },
     "execution_count": 244,
     "metadata": {},
     "output_type": "execute_result"
    }
   ],
   "source": [
    "# first calculate standart deviation for each customer\n",
    "customer_std=data.std(axis = 0,);customer_std"
   ]
  },
  {
   "cell_type": "code",
   "execution_count": 241,
   "metadata": {
    "id": "lPWTD_CrIQT4"
   },
   "outputs": [
    {
     "data": {
      "text/plain": [
       "(1000,)"
      ]
     },
     "execution_count": 241,
     "metadata": {},
     "output_type": "execute_result"
    }
   ],
   "source": [
    "customer_std.shape"
   ]
  },
  {
   "cell_type": "code",
   "execution_count": 245,
   "metadata": {},
   "outputs": [
    {
     "data": {
      "text/plain": [
       "3.528298299306464"
      ]
     },
     "execution_count": 245,
     "metadata": {},
     "output_type": "execute_result"
    }
   ],
   "source": [
    "customer_std.max()"
   ]
  },
  {
   "cell_type": "code",
   "execution_count": 246,
   "metadata": {},
   "outputs": [
    {
     "data": {
      "text/plain": [
       "162"
      ]
     },
     "execution_count": 246,
     "metadata": {},
     "output_type": "execute_result"
    }
   ],
   "source": [
    "customer_std.argmax()"
   ]
  },
  {
   "cell_type": "code",
   "execution_count": 252,
   "metadata": {},
   "outputs": [
    {
     "data": {
      "text/plain": [
       "array([405, 443, 485, 844, 774, 731, 901, 611,  13, 567, 366, 627, 756,\n",
       "       669, 426, 538, 290, 333, 253, 613, 933, 192, 634, 612, 195, 725,\n",
       "       571, 576, 871, 619, 347, 534, 289, 597,  75, 682, 451, 377, 765,\n",
       "       136, 140, 711, 293, 714, 892, 847, 246, 810, 258, 308, 513, 734,\n",
       "       323,  23, 118, 476,  29, 874,   2,  55, 374,   8, 292, 995, 376,\n",
       "       183, 569, 783, 557, 515, 412, 678, 864, 883, 148, 490, 251, 157,\n",
       "       767, 599, 782,  34, 932, 621, 749, 248, 508, 879, 239, 444, 119,\n",
       "       974, 298, 367, 553, 327, 301, 532, 679, 818, 296, 944, 411, 230,\n",
       "       869, 120, 710, 314, 794, 851, 821, 858, 361, 928,  25, 566, 958,\n",
       "       771, 837, 920, 330, 832, 855, 753, 789, 468, 211, 435, 441, 112,\n",
       "       929, 681, 778, 101, 673, 724, 726, 281, 371, 616, 483, 690, 898,\n",
       "       224,  19, 768, 893, 649,  47, 504, 302,  97, 203, 380, 812, 877,\n",
       "       594, 658, 683, 836, 617, 661, 776, 785, 300, 543, 144, 622, 963,\n",
       "       565, 769, 696, 751, 210, 106, 475,  49, 450, 265, 362, 856, 165,\n",
       "       501,   0, 111,  68,  27, 699, 823, 385, 733,  12, 170, 657, 321,\n",
       "       404, 840, 151, 129, 103, 808, 784,  57, 160, 128, 172, 947, 624,\n",
       "       310, 379, 194,  46, 437, 740, 232, 620, 423, 391,  15, 130, 406,\n",
       "        28, 746, 578, 315, 124,  26, 419, 780, 336, 217, 959, 386, 149,\n",
       "       280, 363, 973, 606, 470, 630, 568, 133, 319, 227, 357, 372, 395,\n",
       "       900,  20, 589, 497, 452, 752, 178, 596, 560, 719, 674, 159, 654,\n",
       "       854, 440, 581, 623, 179, 141, 295,  53, 430, 143, 675,  62, 582,\n",
       "        42, 870, 229, 763, 381, 201, 672, 410, 580, 908, 356, 642, 104,\n",
       "        33, 727, 787,  43, 390, 283, 214, 742, 707,  22, 760, 641, 593,\n",
       "       107, 554, 328, 177, 917, 913, 389, 631, 989, 121, 196, 478, 704,\n",
       "       287, 199, 615, 843, 491, 375, 562,   9, 335, 358, 318, 150, 349,\n",
       "       574, 983,  77, 342, 841, 545, 353, 269, 587, 252, 105, 739, 991,\n",
       "       951, 267, 181, 378, 881,  51, 802, 800,  79, 918, 176, 655, 577,\n",
       "       923, 585, 489, 135, 730, 666, 715, 736, 521, 173, 122,  65, 495,\n",
       "       911, 977,  35, 888, 907, 650, 801, 635, 729, 425, 413, 432, 503,\n",
       "       547, 692, 392, 249, 831, 806, 102, 396, 550, 340, 482, 325, 191,\n",
       "       988, 544, 861, 921, 109, 303, 484, 368,  38, 416, 817, 904, 226,\n",
       "       166, 912, 814, 286,   1, 609, 420, 737, 399, 438, 345,  99, 964,\n",
       "       981, 886, 842, 863, 793, 662, 807, 186, 684, 890, 968,  32, 471,\n",
       "       511, 516, 469, 940, 971,  21,  11, 872, 957, 997,  40, 592, 755,\n",
       "       638, 200, 365, 792, 175, 978, 238, 134, 896, 825, 556, 694, 548,\n",
       "       259, 922,  93, 938, 648, 744, 519, 243, 637, 667, 466, 263, 488,\n",
       "       237, 722, 171, 671, 805, 351, 931, 930, 505, 691, 676, 185, 531,\n",
       "       197, 394, 449, 510, 467, 822, 889, 439, 188, 384, 180, 117, 862,\n",
       "        39, 138, 791, 422, 824, 741, 758, 636, 189, 169,  18, 477, 982,\n",
       "        16,  24, 583, 618, 777, 709, 956,  91, 955,  31, 540, 865, 915,\n",
       "       720, 182, 826, 828, 845, 697, 184,  86, 524, 174, 579, 228, 542,\n",
       "       899, 445, 941, 924, 860, 813, 906, 533, 455, 602, 499,  74, 424,\n",
       "       274, 833, 570, 512, 158,  72, 998, 927, 260, 454, 716, 225, 693,\n",
       "       514,  87, 350, 884, 100, 132, 311, 735, 895, 480, 154, 108, 168,\n",
       "       561, 156, 846, 936, 388, 584, 339,   4, 382, 417, 770, 272, 706,\n",
       "       816, 202, 992, 645, 418, 282, 409, 705,   7, 288,  48, 460,  92,\n",
       "        85,  80, 990, 878,  69, 494, 549, 762, 125, 529, 530,  67, 268,\n",
       "       572, 146, 500, 316, 517, 304, 387,  36, 297, 857, 240, 244, 732,\n",
       "       987, 208, 434, 218, 507, 354, 643, 247,  56, 279, 948, 850, 788,\n",
       "       352, 701, 629, 448, 717, 747, 887, 708,  44, 261, 459, 743, 270,\n",
       "       757, 685, 402, 555, 331, 604, 393, 798,  14, 155, 414, 415, 421,\n",
       "       849,  90, 535, 875, 866, 894, 962, 522, 326, 458, 764, 187,  17,\n",
       "       167, 689, 398, 546, 518, 965, 431, 429, 651, 355, 903, 712, 364,\n",
       "       914, 257, 608, 473, 703, 839, 278, 539, 509,  78, 220, 761, 754,\n",
       "       256, 428, 127, 628,  73, 359, 271, 456, 465,  94, 984, 946, 835,\n",
       "       114, 190, 223, 204, 687, 142,  70, 324, 551, 799, 447, 640, 523,\n",
       "       728, 277, 976, 498, 463, 614, 686, 245, 772, 644, 868, 474, 152,\n",
       "       275, 446, 264, 954, 481, 595,  54, 329, 603, 748, 113, 492,  88,\n",
       "       829, 213, 206,  58, 147, 564,   3, 219, 680, 493,  52, 766,  84,\n",
       "       738, 588, 472, 528, 937, 312, 935, 373, 986, 795, 885, 137, 462,\n",
       "       979, 307, 853, 713, 598, 993, 525, 859, 563, 723,  83, 952, 803,\n",
       "       960, 209, 573, 193, 902, 344,  61, 453, 334, 400, 139, 254, 343,\n",
       "        50, 975,  59, 242, 820,  96, 299, 479, 967, 427, 520, 632,  45,\n",
       "        66, 360, 266, 233, 116, 457, 969, 600, 291, 945, 779, 996, 536,\n",
       "       961, 759, 698,  95, 916, 442, 660, 980, 942, 702,   6, 605, 401,\n",
       "       668, 670, 625, 575, 876,  10, 950, 153, 526, 677, 939, 695, 436,\n",
       "       337, 909, 262,  63,  71, 646, 236, 502, 819, 745, 541, 607, 370,\n",
       "       309,  41, 250, 486, 985, 317, 999, 647, 215, 786, 926, 537, 750,\n",
       "       827, 626, 527, 234, 796, 815, 221, 341, 110, 164, 943, 663, 407,\n",
       "       639, 811, 949, 700, 610, 145, 294, 873, 797, 905, 205, 131,  89,\n",
       "       212, 721, 652, 586, 306, 346, 403, 867, 558, 496, 207, 163, 487,\n",
       "       115, 506, 273, 656, 880, 994, 397,  30, 322, 552, 216, 408, 633,\n",
       "        76, 882, 919,  37, 910, 461, 804, 653,  60, 313, 383, 332, 305,\n",
       "       235, 688,  81, 198, 790, 369, 590, 773,  64, 834, 934, 285, 925,\n",
       "       972, 781, 852, 123, 665, 591, 433, 320, 284, 559, 830, 241, 659,\n",
       "       775, 601, 222, 338, 891,  82, 953, 970, 838, 897, 348, 848, 464,\n",
       "       966,   5, 276, 255, 231,  98, 126, 161, 664, 718, 809, 162])"
      ]
     },
     "execution_count": 252,
     "metadata": {},
     "output_type": "execute_result"
    }
   ],
   "source": [
    "customer_std.argsort()[-10,:]"
   ]
  },
  {
   "cell_type": "code",
   "execution_count": null,
   "metadata": {
    "id": "vSVmQ5QgIQT5"
   },
   "outputs": [],
   "source": [
    "# now find the index of the customer having the highest standart devidation\n"
   ]
  },
  {
   "cell_type": "markdown",
   "metadata": {
    "id": "br3NLG_BIQT5"
   },
   "source": [
    "## references: "
   ]
  },
  {
   "cell_type": "markdown",
   "metadata": {
    "id": "aMOI2yYOIQT5"
   },
   "source": [
    "- Python for Data Analysis by Wes McKinney , O’Reilly \n",
    "- Python Data Science Handbook by Jake VanderPlas, O’Reilly "
   ]
  }
 ],
 "metadata": {
  "colab": {
   "collapsed_sections": [
    "Lrnp7RUJIQSq",
    "kWyxidlgIQSw",
    "OTYb77v6IQSz",
    "etCtEFZrIQS2",
    "jsYeBTW3IQS2",
    "fxMdR0zTIQS6",
    "NNXZsHYUIQS9",
    "phQ2yKxCIQTB",
    "wqnKDVj3IQTG",
    "jwAQInA-IQTG",
    "rjucKekdIQTK",
    "IhYud52PIQTM",
    "Qb2ajz5iIQTM",
    "jqCjcxIXIQTN",
    "8YsId4lhIQTN",
    "3vvLIBzNIQTO",
    "CCjzanzGIQTP",
    "OVZXIVjuIQTQ",
    "W26tQORaIQTc",
    "TKYoV2awIQTc",
    "F8uFavk2IQTe",
    "w5TMRuUqIQTf",
    "GZwjXiHKIQTj",
    "HXRF7Gd1IQTl",
    "Boq6GbGPIQTl",
    "4ayjFp4pIQTn",
    "z7LfodOqIQTo",
    "2w5O4sKdIQTp",
    "XMWAmGgBIQTr",
    "uHsZN1J1IQTt",
    "h7BOZdijIQTu",
    "9NYvVY6RIQTv",
    "HPnWVDSgIQTy",
    "cXJWJ1PlIQTz",
    "_2GuXIsmIQT2",
    "p__HFbNnIQT2",
    "S0gkFEUMIQT2",
    "iHcKk5BjIQT3",
    "CNPDYlTsIQT4",
    "br3NLG_BIQT5"
   ],
   "name": "numpy-lecture.ipynb",
   "provenance": []
  },
  "kernelspec": {
   "display_name": "Python 3 (ipykernel)",
   "language": "python",
   "name": "python3"
  },
  "language_info": {
   "codemirror_mode": {
    "name": "ipython",
    "version": 3
   },
   "file_extension": ".py",
   "mimetype": "text/x-python",
   "name": "python",
   "nbconvert_exporter": "python",
   "pygments_lexer": "ipython3",
   "version": "3.9.7"
  }
 },
 "nbformat": 4,
 "nbformat_minor": 4
}
